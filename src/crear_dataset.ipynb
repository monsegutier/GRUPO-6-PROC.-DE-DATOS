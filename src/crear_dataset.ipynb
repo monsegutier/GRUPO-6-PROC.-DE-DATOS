{
  "cells": [
    {
      "cell_type": "markdown",
      "metadata": {
        "id": "view-in-github",
        "colab_type": "text"
      },
      "source": [
        "<a href=\"https://colab.research.google.com/github/monsegutier/GRUPO-6-PROC.-DE-DATOS/blob/monse/src/crear_dataset.ipynb\" target=\"_parent\"><img src=\"https://colab.research.google.com/assets/colab-badge.svg\" alt=\"Open In Colab\"/></a>"
      ]
    },
    {
      "cell_type": "markdown",
      "metadata": {
        "id": "3C8jufPFT23v"
      },
      "source": [
        "# **Pobreza en Argentina**\n",
        "\n",
        "En este trabajo se analiza la pobreza en Argentina de acuerdo a los datos de la Encuesta Permanente de Hogares (EPH). Las bases de datos que se toman en este caso son las del último trimestre del año 2022 (últimas disponibles).\n",
        "\n",
        "De acuerdo a los ingresos de cada hogar y los datos de la canasta básica que proporciona INDEC se puede estimar el porcentaje de pobreza en Argentina.\n",
        "\n",
        "Para calcular el ingreso del hogar se estima primero el porcentaje correspondiente al adulto equivalente en cada miembro del hogar, según género y edad, siguiendo las equivalencias dispuestas por INDEC (ver Cuadro 4 del archivo canasta_01_23DF5760FF57.pdf)\n",
        "\n",
        "En este caso, la línea de pobreza para un adulto equivalente fue de $49.358.\n",
        "\n",
        "Las fuentes de los bases de datos son:\n",
        "\n",
        "\n",
        "**Bases de datos**\n",
        "\n",
        "https://www.indec.gob.ar/indec/web/Institucional-Indec-BasesDeDatos\n",
        "\n",
        "\n",
        "**Diseño de registro y estructura para las bases**\n",
        "\n",
        "https://www.indec.gob.ar/ftp/cuadros/menusuperior/eph/EPH_disenoreg_09.pdf\n",
        "\n",
        "\n",
        "**Canasta básica alimentaria diciembre 2022**\n",
        "\n",
        "https://www.indec.gob.ar/uploads/informesdeprensa/canasta_01_23DF5760FF57.pdf\n",
        "\n"
      ]
    },
    {
      "cell_type": "markdown",
      "source": [
        "# Importamos las librerías\n",
        "\n",
        "\n",
        "\n",
        "\n"
      ],
      "metadata": {
        "id": "S54EVFRTr0Ru"
      }
    },
    {
      "cell_type": "code",
      "execution_count": 1,
      "metadata": {
        "id": "BwBzJH2KA06h"
      },
      "outputs": [],
      "source": [
        "import numpy as np # linear algebra\n",
        "import pandas as pd # data processing, CSV file I/O (e.g. pd.read_csv)\n",
        "import matplotlib.pyplot as plt # data visualization\n",
        "%matplotlib inline\n",
        "\n",
        "# Input data files are available in the \"../input/\" directory.\n",
        "# For example, running this (by clicking run or pressing Shift+Enter) will list all files under the input directory\n",
        "\n",
        "import os\n",
        "import warnings\n",
        "\n",
        "warnings.filterwarnings('ignore')"
      ]
    },
    {
      "cell_type": "markdown",
      "source": [
        "# 1- Recolección y preparación de datos:"
      ],
      "metadata": {
        "id": "ExgNSFXzv5HS"
      }
    },
    {
      "cell_type": "markdown",
      "metadata": {
        "id": "HmNBTgGhKSGa"
      },
      "source": [
        "## **Creamos el dataset**\n",
        "\n",
        "\n",
        "\n"
      ]
    },
    {
      "cell_type": "markdown",
      "source": [
        "## Carga de datos y creacion de Dataframes para trabajar"
      ],
      "metadata": {
        "id": "OJBVARJii04R"
      }
    },
    {
      "cell_type": "code",
      "execution_count": 2,
      "metadata": {
        "id": "RahFhAckBA7m"
      },
      "outputs": [],
      "source": [
        "#cargamos el archivo de individuos \"usu_individual_T422.csv\"\n",
        "individuos = 'https://raw.githubusercontent.com/monsegutier/GRUPO-6-PROC.-DE-DATOS/main/data/usu_individual_T422.csv'\n",
        "# from google.colab import files\n",
        "# uploaded  = files.upload()"
      ]
    },
    {
      "cell_type": "code",
      "execution_count": 3,
      "metadata": {
        "id": "yjEgBwTLSidc"
      },
      "outputs": [],
      "source": [
        "#cargamos el archivo de hogares \"usu_hogar_T422.csv\"\n",
        "hogares = 'https://raw.githubusercontent.com/monsegutier/GRUPO-6-PROC.-DE-DATOS/main/data/usu_hogar_T422.csv'\n",
        "#from google.colab import files\n",
        "#uploaded  = files.upload()"
      ]
    },
    {
      "cell_type": "code",
      "execution_count": 4,
      "metadata": {
        "id": "BOfj5reHCqcb"
      },
      "outputs": [],
      "source": [
        "#creamos el dataframe individuos\n",
        "#df_individual = pd.read_csv(\"usu_individual_T422.csv\", sep=';')\n",
        "df_individual = pd.read_csv(individuos, sep=';')"
      ]
    },
    {
      "cell_type": "code",
      "execution_count": 5,
      "metadata": {
        "id": "079eUZH0bboZ"
      },
      "outputs": [],
      "source": [
        "#creamos el dataframe hogares\n",
        "#df_hogares = pd.read_csv(\"usu_hogar_T422.csv\", sep=\";\")\n",
        "df_hogares = pd.read_csv(hogares, sep=\";\")"
      ]
    },
    {
      "cell_type": "markdown",
      "source": [
        "## Dataframe checks"
      ],
      "metadata": {
        "id": "ny_KaOSfl8wb"
      }
    },
    {
      "cell_type": "code",
      "execution_count": 6,
      "metadata": {
        "colab": {
          "base_uri": "https://localhost:8080/"
        },
        "id": "Ix3p_VwvGcPr",
        "outputId": "78fbf895-b275-4844-d6a8-127f68919532"
      },
      "outputs": [
        {
          "output_type": "stream",
          "name": "stdout",
          "text": [
            "Dimensiones de dataframe individuos: (48545, 177)\n",
            "Dimensiones de dataframe hogares: (16740, 88)\n"
          ]
        }
      ],
      "source": [
        "#medimos las dimensiones\n",
        "print(\"Dimensiones de dataframe individuos:\", df_individual.shape)\n",
        "print(\"Dimensiones de dataframe hogares:\", df_hogares.shape)\n"
      ]
    },
    {
      "cell_type": "code",
      "source": [
        "#vemos los primeros registros\n",
        "print(df_individual.head())\n",
        "print(df_hogares.head())"
      ],
      "metadata": {
        "id": "smS5dVhHYJOl",
        "outputId": "cfd54e7a-8300-4501-963a-8d1336e2a586",
        "colab": {
          "base_uri": "https://localhost:8080/"
        }
      },
      "execution_count": 7,
      "outputs": [
        {
          "output_type": "stream",
          "name": "stdout",
          "text": [
            "                          CODUSU  ANO4  TRIMESTRE  NRO_HOGAR  COMPONENTE  H15  \\\n",
            "0  TQRMNOPRUHKMLSCDEGJBF00788920  2022          4          1           2    1   \n",
            "1  TQRMNORSSHMMMLCDEGJBF00714103  2022          4          1           1    1   \n",
            "2  TQRMNORSSHMMMLCDEGJBF00714103  2022          4          1           2    1   \n",
            "3  TQRMNORSSHMMMLCDEGJBF00714103  2022          4          1           3    1   \n",
            "4  TQRMNORQUHLMLOCDEFPCH00715601  2022          4          1           1    1   \n",
            "\n",
            "   REGION MAS_500  AGLOMERADO  PONDERA  ...  PDECIFR  ADECIFR      IPCF  \\\n",
            "0      43       S          13      464  ...      NaN       12      0.00   \n",
            "1      43       S          13      532  ...      NaN        7  61333.33   \n",
            "2      43       S          13      532  ...      NaN        7  61333.33   \n",
            "3      43       S          13      532  ...      NaN        7  61333.33   \n",
            "4      44       N           9      348  ...      9.0        7  76666.67   \n",
            "\n",
            "   DECCFR  IDECCFR  RDECCFR  GDECCFR  PDECCFR  ADECCFR  PONDIH  \n",
            "0      12     12.0       12     12.0      NaN       12       0  \n",
            "1       6      7.0        6      6.0      NaN        6     635  \n",
            "2       6      7.0        6      6.0      NaN        6     635  \n",
            "3       6      7.0        6      6.0      NaN        6     635  \n",
            "4       7      8.0        6      NaN      8.0        6     341  \n",
            "\n",
            "[5 rows x 177 columns]\n",
            "                          CODUSU  ANO4  TRIMESTRE  NRO_HOGAR  REALIZADA  \\\n",
            "0  TQRMNOSPYHKOLQCDEGNFJ00789611  2022          4          1          1   \n",
            "1  TQRMNOQXUHMOLQCDEGNFJ00713295  2022          4          1          1   \n",
            "2  TQRMNORRSHJMKMCDEOJAH00794456  2022          4          1          1   \n",
            "3  TQRMNOSVUHLMKNCDEOJAH00720329  2022          4          1          1   \n",
            "4  TQRMNOSQWHJOKNCDEOJAH00794457  2022          4          1          1   \n",
            "\n",
            "   REGION MAS_500  AGLOMERADO  PONDERA  IV1  ... GDECCFR  PDECCFR  ADECCFR  \\\n",
            "0      44       N          17      356    1  ...     NaN      9.0        8   \n",
            "1      44       N          17      239    1  ...     NaN     12.0       12   \n",
            "2      44       N          93       40    2  ...     NaN     12.0       12   \n",
            "3      44       N          93       95    1  ...     NaN      9.0        8   \n",
            "4      44       N          93       89    1  ...     NaN      1.0        1   \n",
            "\n",
            "  PONDIH  VII1_1  VII1_2  VII2_1  VII2_2 VII2_3  VII2_4  \n",
            "0    558       1       2      98       0      0       0  \n",
            "1      0       2       0       4       0      0       0  \n",
            "2      0       1       0      98       0      0       0  \n",
            "3    108       1       0      98       0      0       0  \n",
            "4    112       1       0      96       0      0       0  \n",
            "\n",
            "[5 rows x 88 columns]\n"
          ]
        }
      ]
    },
    {
      "cell_type": "markdown",
      "source": [
        "## Empezamos a trabajar los datasets"
      ],
      "metadata": {
        "id": "M0dQG2rwmYq8"
      }
    },
    {
      "cell_type": "markdown",
      "source": [
        "Para integrarlos, es necesario calcular el porcentaje de adulto equivalente de cada miembro del hogar, según edad y género, en el dataframe individuos  y luego integrarlo con el dataframe hogares\n"
      ],
      "metadata": {
        "id": "Zu8QfGSwme3d"
      }
    },
    {
      "cell_type": "code",
      "execution_count": 8,
      "metadata": {
        "id": "MdnN-BXrCx-_"
      },
      "outputs": [],
      "source": [
        "# le asignamos un % a cada persona que vive en el hogar según género y edad, en la variable 'AE_ctrol_ind'\n",
        "# ver Cuadro 4 de canasta_01_23DF5760FF57.pdf\n",
        "\n",
        "condiciones = [\n",
        "    (df_individual ['CH04'] >= 1) & (df_individual['CH06'] < 1),\n",
        "    (df_individual['CH04'] >= 1) & (df_individual['CH06'] == 1),\n",
        "    (df_individual['CH04'] >= 1) & (df_individual['CH06'] == 2),\n",
        "    (df_individual['CH04'] >= 1) & (df_individual['CH06'] == 3),\n",
        "    (df_individual['CH04'] >= 1) & (df_individual['CH06'] == 4),\n",
        "    (df_individual['CH04'] >= 1 ) & ( df_individual['CH06'] == 5),\n",
        "    (df_individual['CH04'] >= 1) & (df_individual['CH06'] == 6),\n",
        "    (df_individual['CH04'] >= 1) & (df_individual['CH06'] == 7),\n",
        "    (df_individual['CH04'] >= 1) & (df_individual['CH06'] == 8),\n",
        "    (df_individual['CH04'] >= 1) & (df_individual['CH06'] == 9),\n",
        "    (df_individual['CH04'] == 2) & (df_individual['CH06'] == 10),\n",
        "    (df_individual['CH04'] == 2) & (df_individual['CH06'] == 11),\n",
        "    (df_individual['CH04'] == 2) & (df_individual['CH06'] == 12),\n",
        "    (df_individual['CH04'] == 2) & (df_individual['CH06'] >= 13) & (df_individual['CH06'] <=14),\n",
        "    (df_individual['CH04'] == 2) & (df_individual['CH06'] >= 15) & (df_individual['CH06'] <=17),\n",
        "    (df_individual['CH04'] == 2) & (df_individual['CH06'] >= 18) & (df_individual['CH06'] <=29),\n",
        "    (df_individual['CH04'] == 2) & (df_individual['CH06'] >= 30) & (df_individual['CH06'] <=45),\n",
        "    (df_individual['CH04'] == 2) & (df_individual['CH06'] >= 46) & (df_individual['CH06'] <=60),\n",
        "    (df_individual['CH04'] == 2) & (df_individual['CH06'] >= 61) & (df_individual['CH06'] <=75),\n",
        "    (df_individual['CH04'] == 2) & (df_individual['CH06'] > 75),\n",
        "    (df_individual['CH04'] == 1) & (df_individual['CH06'] ==10),\n",
        "    (df_individual['CH04'] == 1) & (df_individual['CH06'] ==11),\n",
        "    (df_individual['CH04'] == 1) & (df_individual['CH06'] ==12),\n",
        "    (df_individual['CH04'] == 1) & (df_individual['CH06'] ==13),\n",
        "    (df_individual['CH04'] == 1) & (df_individual['CH06'] ==14),\n",
        "    (df_individual['CH04'] == 1) & (df_individual['CH06'] ==15),\n",
        "    (df_individual['CH04'] == 1) & (df_individual['CH06'] ==16),\n",
        "    (df_individual['CH04'] == 1) & (df_individual['CH06'] ==17),\n",
        "    (df_individual['CH04'] == 1) & (df_individual['CH06'] >= 18) & (df_individual['CH06'] <=29),\n",
        "    (df_individual['CH04'] == 1) & (df_individual['CH06'] >= 30) & (df_individual['CH06'] <=45),\n",
        "    (df_individual['CH04'] == 1) & (df_individual['CH06'] >= 46) & (df_individual['CH06'] <=60),\n",
        "    (df_individual['CH04'] == 1) & (df_individual['CH06'] >= 61) & (df_individual['CH06'] <=75),\n",
        "    (df_individual['CH04'] == 1) & (df_individual['CH06'] > 75)\n",
        "    ]\n",
        "\n",
        "opciones = [0.35,0.37,0.46,0.51,0.55,0.60,0.64,0.66,0.68,0.69,0.70,0.72,0.74,0.76,0.77,0.76,0.77,0.76,0.67,0.63,0.79,0.82,0.85,0.90,\n",
        "            0.96,1.00,1.03,1.04,1.02,1.00,1.00,0.83,0.74]\n",
        "\n"
      ]
    },
    {
      "cell_type": "code",
      "execution_count": 9,
      "metadata": {
        "id": "JWTr4G0ZNu8I"
      },
      "outputs": [],
      "source": [
        "df_individual['AE_ctrol_ind']=np.select(condiciones,opciones)\n"
      ]
    },
    {
      "cell_type": "code",
      "execution_count": 10,
      "metadata": {
        "colab": {
          "base_uri": "https://localhost:8080/",
          "height": 300
        },
        "id": "iAI_PMJgOAxO",
        "outputId": "3048198d-a715-4b7a-f157-b4bb7c529b60"
      },
      "outputs": [
        {
          "output_type": "execute_result",
          "data": {
            "text/plain": [
              "                          CODUSU  ANO4  TRIMESTRE  NRO_HOGAR  COMPONENTE  H15  \\\n",
              "0  TQRMNOPRUHKMLSCDEGJBF00788920  2022          4          1           2    1   \n",
              "1  TQRMNORSSHMMMLCDEGJBF00714103  2022          4          1           1    1   \n",
              "2  TQRMNORSSHMMMLCDEGJBF00714103  2022          4          1           2    1   \n",
              "3  TQRMNORSSHMMMLCDEGJBF00714103  2022          4          1           3    1   \n",
              "4  TQRMNORQUHLMLOCDEFPCH00715601  2022          4          1           1    1   \n",
              "\n",
              "   REGION MAS_500  AGLOMERADO  PONDERA  ...  ADECIFR      IPCF DECCFR  \\\n",
              "0      43       S          13      464  ...       12      0.00     12   \n",
              "1      43       S          13      532  ...        7  61333.33      6   \n",
              "2      43       S          13      532  ...        7  61333.33      6   \n",
              "3      43       S          13      532  ...        7  61333.33      6   \n",
              "4      44       N           9      348  ...        7  76666.67      7   \n",
              "\n",
              "   IDECCFR  RDECCFR  GDECCFR  PDECCFR  ADECCFR  PONDIH  AE_ctrol_ind  \n",
              "0     12.0       12     12.0      NaN       12       0          1.02  \n",
              "1      7.0        6      6.0      NaN        6     635          0.83  \n",
              "2      7.0        6      6.0      NaN        6     635          0.67  \n",
              "3      7.0        6      6.0      NaN        6     635          1.00  \n",
              "4      8.0        6      NaN      8.0        6     341          1.00  \n",
              "\n",
              "[5 rows x 178 columns]"
            ],
            "text/html": [
              "\n",
              "  <div id=\"df-ca75aa1b-6974-49a6-abd2-fed3b6d56152\">\n",
              "    <div class=\"colab-df-container\">\n",
              "      <div>\n",
              "<style scoped>\n",
              "    .dataframe tbody tr th:only-of-type {\n",
              "        vertical-align: middle;\n",
              "    }\n",
              "\n",
              "    .dataframe tbody tr th {\n",
              "        vertical-align: top;\n",
              "    }\n",
              "\n",
              "    .dataframe thead th {\n",
              "        text-align: right;\n",
              "    }\n",
              "</style>\n",
              "<table border=\"1\" class=\"dataframe\">\n",
              "  <thead>\n",
              "    <tr style=\"text-align: right;\">\n",
              "      <th></th>\n",
              "      <th>CODUSU</th>\n",
              "      <th>ANO4</th>\n",
              "      <th>TRIMESTRE</th>\n",
              "      <th>NRO_HOGAR</th>\n",
              "      <th>COMPONENTE</th>\n",
              "      <th>H15</th>\n",
              "      <th>REGION</th>\n",
              "      <th>MAS_500</th>\n",
              "      <th>AGLOMERADO</th>\n",
              "      <th>PONDERA</th>\n",
              "      <th>...</th>\n",
              "      <th>ADECIFR</th>\n",
              "      <th>IPCF</th>\n",
              "      <th>DECCFR</th>\n",
              "      <th>IDECCFR</th>\n",
              "      <th>RDECCFR</th>\n",
              "      <th>GDECCFR</th>\n",
              "      <th>PDECCFR</th>\n",
              "      <th>ADECCFR</th>\n",
              "      <th>PONDIH</th>\n",
              "      <th>AE_ctrol_ind</th>\n",
              "    </tr>\n",
              "  </thead>\n",
              "  <tbody>\n",
              "    <tr>\n",
              "      <th>0</th>\n",
              "      <td>TQRMNOPRUHKMLSCDEGJBF00788920</td>\n",
              "      <td>2022</td>\n",
              "      <td>4</td>\n",
              "      <td>1</td>\n",
              "      <td>2</td>\n",
              "      <td>1</td>\n",
              "      <td>43</td>\n",
              "      <td>S</td>\n",
              "      <td>13</td>\n",
              "      <td>464</td>\n",
              "      <td>...</td>\n",
              "      <td>12</td>\n",
              "      <td>0.00</td>\n",
              "      <td>12</td>\n",
              "      <td>12.0</td>\n",
              "      <td>12</td>\n",
              "      <td>12.0</td>\n",
              "      <td>NaN</td>\n",
              "      <td>12</td>\n",
              "      <td>0</td>\n",
              "      <td>1.02</td>\n",
              "    </tr>\n",
              "    <tr>\n",
              "      <th>1</th>\n",
              "      <td>TQRMNORSSHMMMLCDEGJBF00714103</td>\n",
              "      <td>2022</td>\n",
              "      <td>4</td>\n",
              "      <td>1</td>\n",
              "      <td>1</td>\n",
              "      <td>1</td>\n",
              "      <td>43</td>\n",
              "      <td>S</td>\n",
              "      <td>13</td>\n",
              "      <td>532</td>\n",
              "      <td>...</td>\n",
              "      <td>7</td>\n",
              "      <td>61333.33</td>\n",
              "      <td>6</td>\n",
              "      <td>7.0</td>\n",
              "      <td>6</td>\n",
              "      <td>6.0</td>\n",
              "      <td>NaN</td>\n",
              "      <td>6</td>\n",
              "      <td>635</td>\n",
              "      <td>0.83</td>\n",
              "    </tr>\n",
              "    <tr>\n",
              "      <th>2</th>\n",
              "      <td>TQRMNORSSHMMMLCDEGJBF00714103</td>\n",
              "      <td>2022</td>\n",
              "      <td>4</td>\n",
              "      <td>1</td>\n",
              "      <td>2</td>\n",
              "      <td>1</td>\n",
              "      <td>43</td>\n",
              "      <td>S</td>\n",
              "      <td>13</td>\n",
              "      <td>532</td>\n",
              "      <td>...</td>\n",
              "      <td>7</td>\n",
              "      <td>61333.33</td>\n",
              "      <td>6</td>\n",
              "      <td>7.0</td>\n",
              "      <td>6</td>\n",
              "      <td>6.0</td>\n",
              "      <td>NaN</td>\n",
              "      <td>6</td>\n",
              "      <td>635</td>\n",
              "      <td>0.67</td>\n",
              "    </tr>\n",
              "    <tr>\n",
              "      <th>3</th>\n",
              "      <td>TQRMNORSSHMMMLCDEGJBF00714103</td>\n",
              "      <td>2022</td>\n",
              "      <td>4</td>\n",
              "      <td>1</td>\n",
              "      <td>3</td>\n",
              "      <td>1</td>\n",
              "      <td>43</td>\n",
              "      <td>S</td>\n",
              "      <td>13</td>\n",
              "      <td>532</td>\n",
              "      <td>...</td>\n",
              "      <td>7</td>\n",
              "      <td>61333.33</td>\n",
              "      <td>6</td>\n",
              "      <td>7.0</td>\n",
              "      <td>6</td>\n",
              "      <td>6.0</td>\n",
              "      <td>NaN</td>\n",
              "      <td>6</td>\n",
              "      <td>635</td>\n",
              "      <td>1.00</td>\n",
              "    </tr>\n",
              "    <tr>\n",
              "      <th>4</th>\n",
              "      <td>TQRMNORQUHLMLOCDEFPCH00715601</td>\n",
              "      <td>2022</td>\n",
              "      <td>4</td>\n",
              "      <td>1</td>\n",
              "      <td>1</td>\n",
              "      <td>1</td>\n",
              "      <td>44</td>\n",
              "      <td>N</td>\n",
              "      <td>9</td>\n",
              "      <td>348</td>\n",
              "      <td>...</td>\n",
              "      <td>7</td>\n",
              "      <td>76666.67</td>\n",
              "      <td>7</td>\n",
              "      <td>8.0</td>\n",
              "      <td>6</td>\n",
              "      <td>NaN</td>\n",
              "      <td>8.0</td>\n",
              "      <td>6</td>\n",
              "      <td>341</td>\n",
              "      <td>1.00</td>\n",
              "    </tr>\n",
              "  </tbody>\n",
              "</table>\n",
              "<p>5 rows × 178 columns</p>\n",
              "</div>\n",
              "      <button class=\"colab-df-convert\" onclick=\"convertToInteractive('df-ca75aa1b-6974-49a6-abd2-fed3b6d56152')\"\n",
              "              title=\"Convert this dataframe to an interactive table.\"\n",
              "              style=\"display:none;\">\n",
              "        \n",
              "  <svg xmlns=\"http://www.w3.org/2000/svg\" height=\"24px\"viewBox=\"0 0 24 24\"\n",
              "       width=\"24px\">\n",
              "    <path d=\"M0 0h24v24H0V0z\" fill=\"none\"/>\n",
              "    <path d=\"M18.56 5.44l.94 2.06.94-2.06 2.06-.94-2.06-.94-.94-2.06-.94 2.06-2.06.94zm-11 1L8.5 8.5l.94-2.06 2.06-.94-2.06-.94L8.5 2.5l-.94 2.06-2.06.94zm10 10l.94 2.06.94-2.06 2.06-.94-2.06-.94-.94-2.06-.94 2.06-2.06.94z\"/><path d=\"M17.41 7.96l-1.37-1.37c-.4-.4-.92-.59-1.43-.59-.52 0-1.04.2-1.43.59L10.3 9.45l-7.72 7.72c-.78.78-.78 2.05 0 2.83L4 21.41c.39.39.9.59 1.41.59.51 0 1.02-.2 1.41-.59l7.78-7.78 2.81-2.81c.8-.78.8-2.07 0-2.86zM5.41 20L4 18.59l7.72-7.72 1.47 1.35L5.41 20z\"/>\n",
              "  </svg>\n",
              "      </button>\n",
              "      \n",
              "  <style>\n",
              "    .colab-df-container {\n",
              "      display:flex;\n",
              "      flex-wrap:wrap;\n",
              "      gap: 12px;\n",
              "    }\n",
              "\n",
              "    .colab-df-convert {\n",
              "      background-color: #E8F0FE;\n",
              "      border: none;\n",
              "      border-radius: 50%;\n",
              "      cursor: pointer;\n",
              "      display: none;\n",
              "      fill: #1967D2;\n",
              "      height: 32px;\n",
              "      padding: 0 0 0 0;\n",
              "      width: 32px;\n",
              "    }\n",
              "\n",
              "    .colab-df-convert:hover {\n",
              "      background-color: #E2EBFA;\n",
              "      box-shadow: 0px 1px 2px rgba(60, 64, 67, 0.3), 0px 1px 3px 1px rgba(60, 64, 67, 0.15);\n",
              "      fill: #174EA6;\n",
              "    }\n",
              "\n",
              "    [theme=dark] .colab-df-convert {\n",
              "      background-color: #3B4455;\n",
              "      fill: #D2E3FC;\n",
              "    }\n",
              "\n",
              "    [theme=dark] .colab-df-convert:hover {\n",
              "      background-color: #434B5C;\n",
              "      box-shadow: 0px 1px 3px 1px rgba(0, 0, 0, 0.15);\n",
              "      filter: drop-shadow(0px 1px 2px rgba(0, 0, 0, 0.3));\n",
              "      fill: #FFFFFF;\n",
              "    }\n",
              "  </style>\n",
              "\n",
              "      <script>\n",
              "        const buttonEl =\n",
              "          document.querySelector('#df-ca75aa1b-6974-49a6-abd2-fed3b6d56152 button.colab-df-convert');\n",
              "        buttonEl.style.display =\n",
              "          google.colab.kernel.accessAllowed ? 'block' : 'none';\n",
              "\n",
              "        async function convertToInteractive(key) {\n",
              "          const element = document.querySelector('#df-ca75aa1b-6974-49a6-abd2-fed3b6d56152');\n",
              "          const dataTable =\n",
              "            await google.colab.kernel.invokeFunction('convertToInteractive',\n",
              "                                                     [key], {});\n",
              "          if (!dataTable) return;\n",
              "\n",
              "          const docLinkHtml = 'Like what you see? Visit the ' +\n",
              "            '<a target=\"_blank\" href=https://colab.research.google.com/notebooks/data_table.ipynb>data table notebook</a>'\n",
              "            + ' to learn more about interactive tables.';\n",
              "          element.innerHTML = '';\n",
              "          dataTable['output_type'] = 'display_data';\n",
              "          await google.colab.output.renderOutput(dataTable, element);\n",
              "          const docLink = document.createElement('div');\n",
              "          docLink.innerHTML = docLinkHtml;\n",
              "          element.appendChild(docLink);\n",
              "        }\n",
              "      </script>\n",
              "    </div>\n",
              "  </div>\n",
              "  "
            ]
          },
          "metadata": {},
          "execution_count": 10
        }
      ],
      "source": [
        "df_individual.head(5)"
      ]
    },
    {
      "cell_type": "code",
      "execution_count": 11,
      "metadata": {
        "id": "8o9uLIkDT3Ki"
      },
      "outputs": [],
      "source": [
        "#seleccionamos solo las columnas que nos interesan para este estudio (ver archivo \"EPH_disenoreg_09 disponible en https://www.indec.gob.ar/ftp/cuadros/menusuperior/eph/EPH_disenoreg_09.pdf\")\n",
        "\n",
        "df_personas = df_individual[['CODUSU','NRO_HOGAR','CH03','CH04','CH06','CH08','NIVEL_ED','CAT_OCUP','CAT_INAC','AE_ctrol_ind']]"
      ]
    },
    {
      "cell_type": "code",
      "execution_count": 12,
      "metadata": {
        "colab": {
          "base_uri": "https://localhost:8080/",
          "height": 206
        },
        "id": "qHs7-uGldkz0",
        "outputId": "6cbd3826-8418-49f6-eb34-6a9fed1169c7"
      },
      "outputs": [
        {
          "output_type": "execute_result",
          "data": {
            "text/plain": [
              "                          CODUSU  NRO_HOGAR  CH03  CH04  CH06  CH08  NIVEL_ED  \\\n",
              "0  TQRMNOPRUHKMLSCDEGJBF00788920          1     2     1    22     2         4   \n",
              "1  TQRMNORSSHMMMLCDEGJBF00714103          1     1     1    73     1         5   \n",
              "2  TQRMNORSSHMMMLCDEGJBF00714103          1     2     2    69     1         5   \n",
              "3  TQRMNORSSHMMMLCDEGJBF00714103          1     3     1    40     3         1   \n",
              "4  TQRMNORQUHLMLOCDEFPCH00715601          1     1     1    58     1         1   \n",
              "\n",
              "   CAT_OCUP  CAT_INAC  AE_ctrol_ind  \n",
              "0         3         0          1.02  \n",
              "1         0         1          0.83  \n",
              "2         0         1          0.67  \n",
              "3         3         0          1.00  \n",
              "4         3         0          1.00  "
            ],
            "text/html": [
              "\n",
              "  <div id=\"df-2be3aaa8-4093-47c5-ab33-c288be5895e9\">\n",
              "    <div class=\"colab-df-container\">\n",
              "      <div>\n",
              "<style scoped>\n",
              "    .dataframe tbody tr th:only-of-type {\n",
              "        vertical-align: middle;\n",
              "    }\n",
              "\n",
              "    .dataframe tbody tr th {\n",
              "        vertical-align: top;\n",
              "    }\n",
              "\n",
              "    .dataframe thead th {\n",
              "        text-align: right;\n",
              "    }\n",
              "</style>\n",
              "<table border=\"1\" class=\"dataframe\">\n",
              "  <thead>\n",
              "    <tr style=\"text-align: right;\">\n",
              "      <th></th>\n",
              "      <th>CODUSU</th>\n",
              "      <th>NRO_HOGAR</th>\n",
              "      <th>CH03</th>\n",
              "      <th>CH04</th>\n",
              "      <th>CH06</th>\n",
              "      <th>CH08</th>\n",
              "      <th>NIVEL_ED</th>\n",
              "      <th>CAT_OCUP</th>\n",
              "      <th>CAT_INAC</th>\n",
              "      <th>AE_ctrol_ind</th>\n",
              "    </tr>\n",
              "  </thead>\n",
              "  <tbody>\n",
              "    <tr>\n",
              "      <th>0</th>\n",
              "      <td>TQRMNOPRUHKMLSCDEGJBF00788920</td>\n",
              "      <td>1</td>\n",
              "      <td>2</td>\n",
              "      <td>1</td>\n",
              "      <td>22</td>\n",
              "      <td>2</td>\n",
              "      <td>4</td>\n",
              "      <td>3</td>\n",
              "      <td>0</td>\n",
              "      <td>1.02</td>\n",
              "    </tr>\n",
              "    <tr>\n",
              "      <th>1</th>\n",
              "      <td>TQRMNORSSHMMMLCDEGJBF00714103</td>\n",
              "      <td>1</td>\n",
              "      <td>1</td>\n",
              "      <td>1</td>\n",
              "      <td>73</td>\n",
              "      <td>1</td>\n",
              "      <td>5</td>\n",
              "      <td>0</td>\n",
              "      <td>1</td>\n",
              "      <td>0.83</td>\n",
              "    </tr>\n",
              "    <tr>\n",
              "      <th>2</th>\n",
              "      <td>TQRMNORSSHMMMLCDEGJBF00714103</td>\n",
              "      <td>1</td>\n",
              "      <td>2</td>\n",
              "      <td>2</td>\n",
              "      <td>69</td>\n",
              "      <td>1</td>\n",
              "      <td>5</td>\n",
              "      <td>0</td>\n",
              "      <td>1</td>\n",
              "      <td>0.67</td>\n",
              "    </tr>\n",
              "    <tr>\n",
              "      <th>3</th>\n",
              "      <td>TQRMNORSSHMMMLCDEGJBF00714103</td>\n",
              "      <td>1</td>\n",
              "      <td>3</td>\n",
              "      <td>1</td>\n",
              "      <td>40</td>\n",
              "      <td>3</td>\n",
              "      <td>1</td>\n",
              "      <td>3</td>\n",
              "      <td>0</td>\n",
              "      <td>1.00</td>\n",
              "    </tr>\n",
              "    <tr>\n",
              "      <th>4</th>\n",
              "      <td>TQRMNORQUHLMLOCDEFPCH00715601</td>\n",
              "      <td>1</td>\n",
              "      <td>1</td>\n",
              "      <td>1</td>\n",
              "      <td>58</td>\n",
              "      <td>1</td>\n",
              "      <td>1</td>\n",
              "      <td>3</td>\n",
              "      <td>0</td>\n",
              "      <td>1.00</td>\n",
              "    </tr>\n",
              "  </tbody>\n",
              "</table>\n",
              "</div>\n",
              "      <button class=\"colab-df-convert\" onclick=\"convertToInteractive('df-2be3aaa8-4093-47c5-ab33-c288be5895e9')\"\n",
              "              title=\"Convert this dataframe to an interactive table.\"\n",
              "              style=\"display:none;\">\n",
              "        \n",
              "  <svg xmlns=\"http://www.w3.org/2000/svg\" height=\"24px\"viewBox=\"0 0 24 24\"\n",
              "       width=\"24px\">\n",
              "    <path d=\"M0 0h24v24H0V0z\" fill=\"none\"/>\n",
              "    <path d=\"M18.56 5.44l.94 2.06.94-2.06 2.06-.94-2.06-.94-.94-2.06-.94 2.06-2.06.94zm-11 1L8.5 8.5l.94-2.06 2.06-.94-2.06-.94L8.5 2.5l-.94 2.06-2.06.94zm10 10l.94 2.06.94-2.06 2.06-.94-2.06-.94-.94-2.06-.94 2.06-2.06.94z\"/><path d=\"M17.41 7.96l-1.37-1.37c-.4-.4-.92-.59-1.43-.59-.52 0-1.04.2-1.43.59L10.3 9.45l-7.72 7.72c-.78.78-.78 2.05 0 2.83L4 21.41c.39.39.9.59 1.41.59.51 0 1.02-.2 1.41-.59l7.78-7.78 2.81-2.81c.8-.78.8-2.07 0-2.86zM5.41 20L4 18.59l7.72-7.72 1.47 1.35L5.41 20z\"/>\n",
              "  </svg>\n",
              "      </button>\n",
              "      \n",
              "  <style>\n",
              "    .colab-df-container {\n",
              "      display:flex;\n",
              "      flex-wrap:wrap;\n",
              "      gap: 12px;\n",
              "    }\n",
              "\n",
              "    .colab-df-convert {\n",
              "      background-color: #E8F0FE;\n",
              "      border: none;\n",
              "      border-radius: 50%;\n",
              "      cursor: pointer;\n",
              "      display: none;\n",
              "      fill: #1967D2;\n",
              "      height: 32px;\n",
              "      padding: 0 0 0 0;\n",
              "      width: 32px;\n",
              "    }\n",
              "\n",
              "    .colab-df-convert:hover {\n",
              "      background-color: #E2EBFA;\n",
              "      box-shadow: 0px 1px 2px rgba(60, 64, 67, 0.3), 0px 1px 3px 1px rgba(60, 64, 67, 0.15);\n",
              "      fill: #174EA6;\n",
              "    }\n",
              "\n",
              "    [theme=dark] .colab-df-convert {\n",
              "      background-color: #3B4455;\n",
              "      fill: #D2E3FC;\n",
              "    }\n",
              "\n",
              "    [theme=dark] .colab-df-convert:hover {\n",
              "      background-color: #434B5C;\n",
              "      box-shadow: 0px 1px 3px 1px rgba(0, 0, 0, 0.15);\n",
              "      filter: drop-shadow(0px 1px 2px rgba(0, 0, 0, 0.3));\n",
              "      fill: #FFFFFF;\n",
              "    }\n",
              "  </style>\n",
              "\n",
              "      <script>\n",
              "        const buttonEl =\n",
              "          document.querySelector('#df-2be3aaa8-4093-47c5-ab33-c288be5895e9 button.colab-df-convert');\n",
              "        buttonEl.style.display =\n",
              "          google.colab.kernel.accessAllowed ? 'block' : 'none';\n",
              "\n",
              "        async function convertToInteractive(key) {\n",
              "          const element = document.querySelector('#df-2be3aaa8-4093-47c5-ab33-c288be5895e9');\n",
              "          const dataTable =\n",
              "            await google.colab.kernel.invokeFunction('convertToInteractive',\n",
              "                                                     [key], {});\n",
              "          if (!dataTable) return;\n",
              "\n",
              "          const docLinkHtml = 'Like what you see? Visit the ' +\n",
              "            '<a target=\"_blank\" href=https://colab.research.google.com/notebooks/data_table.ipynb>data table notebook</a>'\n",
              "            + ' to learn more about interactive tables.';\n",
              "          element.innerHTML = '';\n",
              "          dataTable['output_type'] = 'display_data';\n",
              "          await google.colab.output.renderOutput(dataTable, element);\n",
              "          const docLink = document.createElement('div');\n",
              "          docLink.innerHTML = docLinkHtml;\n",
              "          element.appendChild(docLink);\n",
              "        }\n",
              "      </script>\n",
              "    </div>\n",
              "  </div>\n",
              "  "
            ]
          },
          "metadata": {},
          "execution_count": 12
        }
      ],
      "source": [
        "df_personas.head(5)"
      ]
    },
    {
      "cell_type": "code",
      "execution_count": 13,
      "metadata": {
        "id": "B5sAk0OuNpiW"
      },
      "outputs": [],
      "source": [
        "#sumamos el % de cada persona que compone el hogar (las variables CODUSU y NRO_HOGAR identifican a cada hogar)\n",
        "\n",
        "df_suma = df_personas.groupby(['CODUSU','NRO_HOGAR']).AE_ctrol_ind.sum()"
      ]
    },
    {
      "cell_type": "code",
      "execution_count": 14,
      "metadata": {
        "colab": {
          "base_uri": "https://localhost:8080/"
        },
        "id": "D9yT3Op7Nplg",
        "outputId": "73643dde-01e7-4fd6-9913-ba88a1f178e2"
      },
      "outputs": [
        {
          "output_type": "execute_result",
          "data": {
            "text/plain": [
              "CODUSU                         NRO_HOGAR\n",
              "TQRMNOPPQHJKLLCDEFKID00798130  1            1.50\n",
              "TQRMNOPPQHJLKUCDEFKID00796257  1            2.00\n",
              "TQRMNOPPQHJMLOCDEHPJB00795718  1            3.79\n",
              "TQRMNOPPQHJNLPCDEHJGH00793308  1            4.43\n",
              "TQRMNOPPQHJNLTCDEFKID00798140  1            2.02\n",
              "Name: AE_ctrol_ind, dtype: float64"
            ]
          },
          "metadata": {},
          "execution_count": 14
        }
      ],
      "source": [
        "df_suma.head(5)"
      ]
    },
    {
      "cell_type": "code",
      "execution_count": 15,
      "metadata": {
        "colab": {
          "base_uri": "https://localhost:8080/"
        },
        "id": "uKG9mJW_dlAK",
        "outputId": "f615fa84-dd38-411f-88ef-53b71c8e51ee"
      },
      "outputs": [
        {
          "output_type": "execute_result",
          "data": {
            "text/plain": [
              "(16740,)"
            ]
          },
          "metadata": {},
          "execution_count": 15
        }
      ],
      "source": [
        "df_suma.shape"
      ]
    },
    {
      "cell_type": "code",
      "execution_count": 16,
      "metadata": {
        "id": "CVyiMCzAaj0k"
      },
      "outputs": [],
      "source": [
        "#unimos los dos dataframes según las variables CODUSU y NRO_HOGAR\n",
        "\n",
        "df_personas_suma = pd.merge(df_personas, df_suma, on=['CODUSU','NRO_HOGAR'])"
      ]
    },
    {
      "cell_type": "code",
      "execution_count": 17,
      "metadata": {
        "colab": {
          "base_uri": "https://localhost:8080/",
          "height": 206
        },
        "id": "P9x7vhRYSghx",
        "outputId": "d38f6731-ca9f-4b02-da02-a56e487957b8"
      },
      "outputs": [
        {
          "output_type": "execute_result",
          "data": {
            "text/plain": [
              "                          CODUSU  NRO_HOGAR  CH03  CH04  CH06  CH08  NIVEL_ED  \\\n",
              "0  TQRMNOPRUHKMLSCDEGJBF00788920          1     2     1    22     2         4   \n",
              "1  TQRMNOPRUHKMLSCDEGJBF00788920          1     1     2    24     2         6   \n",
              "2  TQRMNORSSHMMMLCDEGJBF00714103          1     1     1    73     1         5   \n",
              "3  TQRMNORSSHMMMLCDEGJBF00714103          1     2     2    69     1         5   \n",
              "4  TQRMNORSSHMMMLCDEGJBF00714103          1     3     1    40     3         1   \n",
              "\n",
              "   CAT_OCUP  CAT_INAC  AE_ctrol_ind_x  AE_ctrol_ind_y  \n",
              "0         3         0            1.02            1.78  \n",
              "1         3         0            0.76            1.78  \n",
              "2         0         1            0.83            2.50  \n",
              "3         0         1            0.67            2.50  \n",
              "4         3         0            1.00            2.50  "
            ],
            "text/html": [
              "\n",
              "  <div id=\"df-024c8171-31e7-414e-acd0-fd8d1a670047\">\n",
              "    <div class=\"colab-df-container\">\n",
              "      <div>\n",
              "<style scoped>\n",
              "    .dataframe tbody tr th:only-of-type {\n",
              "        vertical-align: middle;\n",
              "    }\n",
              "\n",
              "    .dataframe tbody tr th {\n",
              "        vertical-align: top;\n",
              "    }\n",
              "\n",
              "    .dataframe thead th {\n",
              "        text-align: right;\n",
              "    }\n",
              "</style>\n",
              "<table border=\"1\" class=\"dataframe\">\n",
              "  <thead>\n",
              "    <tr style=\"text-align: right;\">\n",
              "      <th></th>\n",
              "      <th>CODUSU</th>\n",
              "      <th>NRO_HOGAR</th>\n",
              "      <th>CH03</th>\n",
              "      <th>CH04</th>\n",
              "      <th>CH06</th>\n",
              "      <th>CH08</th>\n",
              "      <th>NIVEL_ED</th>\n",
              "      <th>CAT_OCUP</th>\n",
              "      <th>CAT_INAC</th>\n",
              "      <th>AE_ctrol_ind_x</th>\n",
              "      <th>AE_ctrol_ind_y</th>\n",
              "    </tr>\n",
              "  </thead>\n",
              "  <tbody>\n",
              "    <tr>\n",
              "      <th>0</th>\n",
              "      <td>TQRMNOPRUHKMLSCDEGJBF00788920</td>\n",
              "      <td>1</td>\n",
              "      <td>2</td>\n",
              "      <td>1</td>\n",
              "      <td>22</td>\n",
              "      <td>2</td>\n",
              "      <td>4</td>\n",
              "      <td>3</td>\n",
              "      <td>0</td>\n",
              "      <td>1.02</td>\n",
              "      <td>1.78</td>\n",
              "    </tr>\n",
              "    <tr>\n",
              "      <th>1</th>\n",
              "      <td>TQRMNOPRUHKMLSCDEGJBF00788920</td>\n",
              "      <td>1</td>\n",
              "      <td>1</td>\n",
              "      <td>2</td>\n",
              "      <td>24</td>\n",
              "      <td>2</td>\n",
              "      <td>6</td>\n",
              "      <td>3</td>\n",
              "      <td>0</td>\n",
              "      <td>0.76</td>\n",
              "      <td>1.78</td>\n",
              "    </tr>\n",
              "    <tr>\n",
              "      <th>2</th>\n",
              "      <td>TQRMNORSSHMMMLCDEGJBF00714103</td>\n",
              "      <td>1</td>\n",
              "      <td>1</td>\n",
              "      <td>1</td>\n",
              "      <td>73</td>\n",
              "      <td>1</td>\n",
              "      <td>5</td>\n",
              "      <td>0</td>\n",
              "      <td>1</td>\n",
              "      <td>0.83</td>\n",
              "      <td>2.50</td>\n",
              "    </tr>\n",
              "    <tr>\n",
              "      <th>3</th>\n",
              "      <td>TQRMNORSSHMMMLCDEGJBF00714103</td>\n",
              "      <td>1</td>\n",
              "      <td>2</td>\n",
              "      <td>2</td>\n",
              "      <td>69</td>\n",
              "      <td>1</td>\n",
              "      <td>5</td>\n",
              "      <td>0</td>\n",
              "      <td>1</td>\n",
              "      <td>0.67</td>\n",
              "      <td>2.50</td>\n",
              "    </tr>\n",
              "    <tr>\n",
              "      <th>4</th>\n",
              "      <td>TQRMNORSSHMMMLCDEGJBF00714103</td>\n",
              "      <td>1</td>\n",
              "      <td>3</td>\n",
              "      <td>1</td>\n",
              "      <td>40</td>\n",
              "      <td>3</td>\n",
              "      <td>1</td>\n",
              "      <td>3</td>\n",
              "      <td>0</td>\n",
              "      <td>1.00</td>\n",
              "      <td>2.50</td>\n",
              "    </tr>\n",
              "  </tbody>\n",
              "</table>\n",
              "</div>\n",
              "      <button class=\"colab-df-convert\" onclick=\"convertToInteractive('df-024c8171-31e7-414e-acd0-fd8d1a670047')\"\n",
              "              title=\"Convert this dataframe to an interactive table.\"\n",
              "              style=\"display:none;\">\n",
              "        \n",
              "  <svg xmlns=\"http://www.w3.org/2000/svg\" height=\"24px\"viewBox=\"0 0 24 24\"\n",
              "       width=\"24px\">\n",
              "    <path d=\"M0 0h24v24H0V0z\" fill=\"none\"/>\n",
              "    <path d=\"M18.56 5.44l.94 2.06.94-2.06 2.06-.94-2.06-.94-.94-2.06-.94 2.06-2.06.94zm-11 1L8.5 8.5l.94-2.06 2.06-.94-2.06-.94L8.5 2.5l-.94 2.06-2.06.94zm10 10l.94 2.06.94-2.06 2.06-.94-2.06-.94-.94-2.06-.94 2.06-2.06.94z\"/><path d=\"M17.41 7.96l-1.37-1.37c-.4-.4-.92-.59-1.43-.59-.52 0-1.04.2-1.43.59L10.3 9.45l-7.72 7.72c-.78.78-.78 2.05 0 2.83L4 21.41c.39.39.9.59 1.41.59.51 0 1.02-.2 1.41-.59l7.78-7.78 2.81-2.81c.8-.78.8-2.07 0-2.86zM5.41 20L4 18.59l7.72-7.72 1.47 1.35L5.41 20z\"/>\n",
              "  </svg>\n",
              "      </button>\n",
              "      \n",
              "  <style>\n",
              "    .colab-df-container {\n",
              "      display:flex;\n",
              "      flex-wrap:wrap;\n",
              "      gap: 12px;\n",
              "    }\n",
              "\n",
              "    .colab-df-convert {\n",
              "      background-color: #E8F0FE;\n",
              "      border: none;\n",
              "      border-radius: 50%;\n",
              "      cursor: pointer;\n",
              "      display: none;\n",
              "      fill: #1967D2;\n",
              "      height: 32px;\n",
              "      padding: 0 0 0 0;\n",
              "      width: 32px;\n",
              "    }\n",
              "\n",
              "    .colab-df-convert:hover {\n",
              "      background-color: #E2EBFA;\n",
              "      box-shadow: 0px 1px 2px rgba(60, 64, 67, 0.3), 0px 1px 3px 1px rgba(60, 64, 67, 0.15);\n",
              "      fill: #174EA6;\n",
              "    }\n",
              "\n",
              "    [theme=dark] .colab-df-convert {\n",
              "      background-color: #3B4455;\n",
              "      fill: #D2E3FC;\n",
              "    }\n",
              "\n",
              "    [theme=dark] .colab-df-convert:hover {\n",
              "      background-color: #434B5C;\n",
              "      box-shadow: 0px 1px 3px 1px rgba(0, 0, 0, 0.15);\n",
              "      filter: drop-shadow(0px 1px 2px rgba(0, 0, 0, 0.3));\n",
              "      fill: #FFFFFF;\n",
              "    }\n",
              "  </style>\n",
              "\n",
              "      <script>\n",
              "        const buttonEl =\n",
              "          document.querySelector('#df-024c8171-31e7-414e-acd0-fd8d1a670047 button.colab-df-convert');\n",
              "        buttonEl.style.display =\n",
              "          google.colab.kernel.accessAllowed ? 'block' : 'none';\n",
              "\n",
              "        async function convertToInteractive(key) {\n",
              "          const element = document.querySelector('#df-024c8171-31e7-414e-acd0-fd8d1a670047');\n",
              "          const dataTable =\n",
              "            await google.colab.kernel.invokeFunction('convertToInteractive',\n",
              "                                                     [key], {});\n",
              "          if (!dataTable) return;\n",
              "\n",
              "          const docLinkHtml = 'Like what you see? Visit the ' +\n",
              "            '<a target=\"_blank\" href=https://colab.research.google.com/notebooks/data_table.ipynb>data table notebook</a>'\n",
              "            + ' to learn more about interactive tables.';\n",
              "          element.innerHTML = '';\n",
              "          dataTable['output_type'] = 'display_data';\n",
              "          await google.colab.output.renderOutput(dataTable, element);\n",
              "          const docLink = document.createElement('div');\n",
              "          docLink.innerHTML = docLinkHtml;\n",
              "          element.appendChild(docLink);\n",
              "        }\n",
              "      </script>\n",
              "    </div>\n",
              "  </div>\n",
              "  "
            ]
          },
          "metadata": {},
          "execution_count": 17
        }
      ],
      "source": [
        "df_personas_suma.head(5)"
      ]
    },
    {
      "cell_type": "code",
      "execution_count": 18,
      "metadata": {
        "id": "HxvWMCDvUbrB"
      },
      "outputs": [],
      "source": [
        "#renombramos las columnas\n",
        "\n",
        "df_personas_suma = df_personas_suma.rename(columns={\n",
        "     'CH03':'parentesco(CH3)',\n",
        "     'CH04':'genero(CH04)',\n",
        "     'CH06':'edad(CH06)',\n",
        "     'CH08':'cob_medica(CH08)',\n",
        "     'AE_ctrol_ind_x':'AE_ctrol_ind',\n",
        "     'AE_ctrol_ind_y':'AE_ctrol_ind_sum'})"
      ]
    },
    {
      "cell_type": "code",
      "execution_count": 19,
      "metadata": {
        "colab": {
          "base_uri": "https://localhost:8080/",
          "height": 176
        },
        "id": "_k3D7D1DUtJY",
        "outputId": "4d774d1b-7779-402c-abf8-10c6cb040c1b"
      },
      "outputs": [
        {
          "output_type": "execute_result",
          "data": {
            "text/plain": [
              "                          CODUSU  NRO_HOGAR  parentesco(CH3)  genero(CH04)  \\\n",
              "0  TQRMNOPRUHKMLSCDEGJBF00788920          1                2             1   \n",
              "1  TQRMNOPRUHKMLSCDEGJBF00788920          1                1             2   \n",
              "\n",
              "   edad(CH06)  cob_medica(CH08)  NIVEL_ED  CAT_OCUP  CAT_INAC  AE_ctrol_ind  \\\n",
              "0          22                 2         4         3         0          1.02   \n",
              "1          24                 2         6         3         0          0.76   \n",
              "\n",
              "   AE_ctrol_ind_sum  \n",
              "0              1.78  \n",
              "1              1.78  "
            ],
            "text/html": [
              "\n",
              "  <div id=\"df-af561a04-b8fc-404a-94b7-d42538af8771\">\n",
              "    <div class=\"colab-df-container\">\n",
              "      <div>\n",
              "<style scoped>\n",
              "    .dataframe tbody tr th:only-of-type {\n",
              "        vertical-align: middle;\n",
              "    }\n",
              "\n",
              "    .dataframe tbody tr th {\n",
              "        vertical-align: top;\n",
              "    }\n",
              "\n",
              "    .dataframe thead th {\n",
              "        text-align: right;\n",
              "    }\n",
              "</style>\n",
              "<table border=\"1\" class=\"dataframe\">\n",
              "  <thead>\n",
              "    <tr style=\"text-align: right;\">\n",
              "      <th></th>\n",
              "      <th>CODUSU</th>\n",
              "      <th>NRO_HOGAR</th>\n",
              "      <th>parentesco(CH3)</th>\n",
              "      <th>genero(CH04)</th>\n",
              "      <th>edad(CH06)</th>\n",
              "      <th>cob_medica(CH08)</th>\n",
              "      <th>NIVEL_ED</th>\n",
              "      <th>CAT_OCUP</th>\n",
              "      <th>CAT_INAC</th>\n",
              "      <th>AE_ctrol_ind</th>\n",
              "      <th>AE_ctrol_ind_sum</th>\n",
              "    </tr>\n",
              "  </thead>\n",
              "  <tbody>\n",
              "    <tr>\n",
              "      <th>0</th>\n",
              "      <td>TQRMNOPRUHKMLSCDEGJBF00788920</td>\n",
              "      <td>1</td>\n",
              "      <td>2</td>\n",
              "      <td>1</td>\n",
              "      <td>22</td>\n",
              "      <td>2</td>\n",
              "      <td>4</td>\n",
              "      <td>3</td>\n",
              "      <td>0</td>\n",
              "      <td>1.02</td>\n",
              "      <td>1.78</td>\n",
              "    </tr>\n",
              "    <tr>\n",
              "      <th>1</th>\n",
              "      <td>TQRMNOPRUHKMLSCDEGJBF00788920</td>\n",
              "      <td>1</td>\n",
              "      <td>1</td>\n",
              "      <td>2</td>\n",
              "      <td>24</td>\n",
              "      <td>2</td>\n",
              "      <td>6</td>\n",
              "      <td>3</td>\n",
              "      <td>0</td>\n",
              "      <td>0.76</td>\n",
              "      <td>1.78</td>\n",
              "    </tr>\n",
              "  </tbody>\n",
              "</table>\n",
              "</div>\n",
              "      <button class=\"colab-df-convert\" onclick=\"convertToInteractive('df-af561a04-b8fc-404a-94b7-d42538af8771')\"\n",
              "              title=\"Convert this dataframe to an interactive table.\"\n",
              "              style=\"display:none;\">\n",
              "        \n",
              "  <svg xmlns=\"http://www.w3.org/2000/svg\" height=\"24px\"viewBox=\"0 0 24 24\"\n",
              "       width=\"24px\">\n",
              "    <path d=\"M0 0h24v24H0V0z\" fill=\"none\"/>\n",
              "    <path d=\"M18.56 5.44l.94 2.06.94-2.06 2.06-.94-2.06-.94-.94-2.06-.94 2.06-2.06.94zm-11 1L8.5 8.5l.94-2.06 2.06-.94-2.06-.94L8.5 2.5l-.94 2.06-2.06.94zm10 10l.94 2.06.94-2.06 2.06-.94-2.06-.94-.94-2.06-.94 2.06-2.06.94z\"/><path d=\"M17.41 7.96l-1.37-1.37c-.4-.4-.92-.59-1.43-.59-.52 0-1.04.2-1.43.59L10.3 9.45l-7.72 7.72c-.78.78-.78 2.05 0 2.83L4 21.41c.39.39.9.59 1.41.59.51 0 1.02-.2 1.41-.59l7.78-7.78 2.81-2.81c.8-.78.8-2.07 0-2.86zM5.41 20L4 18.59l7.72-7.72 1.47 1.35L5.41 20z\"/>\n",
              "  </svg>\n",
              "      </button>\n",
              "      \n",
              "  <style>\n",
              "    .colab-df-container {\n",
              "      display:flex;\n",
              "      flex-wrap:wrap;\n",
              "      gap: 12px;\n",
              "    }\n",
              "\n",
              "    .colab-df-convert {\n",
              "      background-color: #E8F0FE;\n",
              "      border: none;\n",
              "      border-radius: 50%;\n",
              "      cursor: pointer;\n",
              "      display: none;\n",
              "      fill: #1967D2;\n",
              "      height: 32px;\n",
              "      padding: 0 0 0 0;\n",
              "      width: 32px;\n",
              "    }\n",
              "\n",
              "    .colab-df-convert:hover {\n",
              "      background-color: #E2EBFA;\n",
              "      box-shadow: 0px 1px 2px rgba(60, 64, 67, 0.3), 0px 1px 3px 1px rgba(60, 64, 67, 0.15);\n",
              "      fill: #174EA6;\n",
              "    }\n",
              "\n",
              "    [theme=dark] .colab-df-convert {\n",
              "      background-color: #3B4455;\n",
              "      fill: #D2E3FC;\n",
              "    }\n",
              "\n",
              "    [theme=dark] .colab-df-convert:hover {\n",
              "      background-color: #434B5C;\n",
              "      box-shadow: 0px 1px 3px 1px rgba(0, 0, 0, 0.15);\n",
              "      filter: drop-shadow(0px 1px 2px rgba(0, 0, 0, 0.3));\n",
              "      fill: #FFFFFF;\n",
              "    }\n",
              "  </style>\n",
              "\n",
              "      <script>\n",
              "        const buttonEl =\n",
              "          document.querySelector('#df-af561a04-b8fc-404a-94b7-d42538af8771 button.colab-df-convert');\n",
              "        buttonEl.style.display =\n",
              "          google.colab.kernel.accessAllowed ? 'block' : 'none';\n",
              "\n",
              "        async function convertToInteractive(key) {\n",
              "          const element = document.querySelector('#df-af561a04-b8fc-404a-94b7-d42538af8771');\n",
              "          const dataTable =\n",
              "            await google.colab.kernel.invokeFunction('convertToInteractive',\n",
              "                                                     [key], {});\n",
              "          if (!dataTable) return;\n",
              "\n",
              "          const docLinkHtml = 'Like what you see? Visit the ' +\n",
              "            '<a target=\"_blank\" href=https://colab.research.google.com/notebooks/data_table.ipynb>data table notebook</a>'\n",
              "            + ' to learn more about interactive tables.';\n",
              "          element.innerHTML = '';\n",
              "          dataTable['output_type'] = 'display_data';\n",
              "          await google.colab.output.renderOutput(dataTable, element);\n",
              "          const docLink = document.createElement('div');\n",
              "          docLink.innerHTML = docLinkHtml;\n",
              "          element.appendChild(docLink);\n",
              "        }\n",
              "      </script>\n",
              "    </div>\n",
              "  </div>\n",
              "  "
            ]
          },
          "metadata": {},
          "execution_count": 19
        }
      ],
      "source": [
        "df_personas_suma.head(2)"
      ]
    },
    {
      "cell_type": "code",
      "execution_count": 20,
      "metadata": {
        "colab": {
          "base_uri": "https://localhost:8080/"
        },
        "id": "aO8myyQEVROW",
        "outputId": "9f75ccd9-2209-4f75-fda8-71638acc8359"
      },
      "outputs": [
        {
          "output_type": "execute_result",
          "data": {
            "text/plain": [
              "(48545, 11)"
            ]
          },
          "metadata": {},
          "execution_count": 20
        }
      ],
      "source": [
        "df_personas_suma.shape"
      ]
    },
    {
      "cell_type": "code",
      "execution_count": 21,
      "metadata": {
        "id": "C36-R3tcniae"
      },
      "outputs": [],
      "source": [
        "#seleccionamos solo los que cumplen la condición de jefes/as de hogar\n",
        "\n",
        "df_personas_jefes = df_personas_suma.loc[df_personas_suma.loc[:, 'parentesco(CH3)'] == 1]"
      ]
    },
    {
      "cell_type": "code",
      "execution_count": 22,
      "metadata": {
        "colab": {
          "base_uri": "https://localhost:8080/",
          "height": 270
        },
        "id": "_X9L1WcVrGCh",
        "outputId": "1adb9720-2119-4cb1-8581-b9b77f9c150d"
      },
      "outputs": [
        {
          "output_type": "execute_result",
          "data": {
            "text/plain": [
              "                           CODUSU  NRO_HOGAR  parentesco(CH3)  genero(CH04)  \\\n",
              "1   TQRMNOPRUHKMLSCDEGJBF00788920          1                1             2   \n",
              "2   TQRMNORSSHMMMLCDEGJBF00714103          1                1             1   \n",
              "5   TQRMNORQUHLMLOCDEFPCH00715601          1                1             1   \n",
              "8   TQRMNOQWXHLMNOCDEIJAH00719609          2                1             1   \n",
              "13  TQSMNORXSHKLMUCDEIJAH00794113          1                1             1   \n",
              "\n",
              "    edad(CH06)  cob_medica(CH08)  NIVEL_ED  CAT_OCUP  CAT_INAC  AE_ctrol_ind  \\\n",
              "1           24                 2         6         3         0          0.76   \n",
              "2           73                 1         5         0         1          0.83   \n",
              "5           58                 1         1         3         0          1.00   \n",
              "8           31                 4         3         3         0          1.00   \n",
              "13          49                 4         5         2         0          1.00   \n",
              "\n",
              "    AE_ctrol_ind_sum  \n",
              "1               1.78  \n",
              "2               2.50  \n",
              "5               2.78  \n",
              "8               4.10  \n",
              "13              4.33  "
            ],
            "text/html": [
              "\n",
              "  <div id=\"df-22947a6b-444b-4bcf-92b9-08550c31b5b9\">\n",
              "    <div class=\"colab-df-container\">\n",
              "      <div>\n",
              "<style scoped>\n",
              "    .dataframe tbody tr th:only-of-type {\n",
              "        vertical-align: middle;\n",
              "    }\n",
              "\n",
              "    .dataframe tbody tr th {\n",
              "        vertical-align: top;\n",
              "    }\n",
              "\n",
              "    .dataframe thead th {\n",
              "        text-align: right;\n",
              "    }\n",
              "</style>\n",
              "<table border=\"1\" class=\"dataframe\">\n",
              "  <thead>\n",
              "    <tr style=\"text-align: right;\">\n",
              "      <th></th>\n",
              "      <th>CODUSU</th>\n",
              "      <th>NRO_HOGAR</th>\n",
              "      <th>parentesco(CH3)</th>\n",
              "      <th>genero(CH04)</th>\n",
              "      <th>edad(CH06)</th>\n",
              "      <th>cob_medica(CH08)</th>\n",
              "      <th>NIVEL_ED</th>\n",
              "      <th>CAT_OCUP</th>\n",
              "      <th>CAT_INAC</th>\n",
              "      <th>AE_ctrol_ind</th>\n",
              "      <th>AE_ctrol_ind_sum</th>\n",
              "    </tr>\n",
              "  </thead>\n",
              "  <tbody>\n",
              "    <tr>\n",
              "      <th>1</th>\n",
              "      <td>TQRMNOPRUHKMLSCDEGJBF00788920</td>\n",
              "      <td>1</td>\n",
              "      <td>1</td>\n",
              "      <td>2</td>\n",
              "      <td>24</td>\n",
              "      <td>2</td>\n",
              "      <td>6</td>\n",
              "      <td>3</td>\n",
              "      <td>0</td>\n",
              "      <td>0.76</td>\n",
              "      <td>1.78</td>\n",
              "    </tr>\n",
              "    <tr>\n",
              "      <th>2</th>\n",
              "      <td>TQRMNORSSHMMMLCDEGJBF00714103</td>\n",
              "      <td>1</td>\n",
              "      <td>1</td>\n",
              "      <td>1</td>\n",
              "      <td>73</td>\n",
              "      <td>1</td>\n",
              "      <td>5</td>\n",
              "      <td>0</td>\n",
              "      <td>1</td>\n",
              "      <td>0.83</td>\n",
              "      <td>2.50</td>\n",
              "    </tr>\n",
              "    <tr>\n",
              "      <th>5</th>\n",
              "      <td>TQRMNORQUHLMLOCDEFPCH00715601</td>\n",
              "      <td>1</td>\n",
              "      <td>1</td>\n",
              "      <td>1</td>\n",
              "      <td>58</td>\n",
              "      <td>1</td>\n",
              "      <td>1</td>\n",
              "      <td>3</td>\n",
              "      <td>0</td>\n",
              "      <td>1.00</td>\n",
              "      <td>2.78</td>\n",
              "    </tr>\n",
              "    <tr>\n",
              "      <th>8</th>\n",
              "      <td>TQRMNOQWXHLMNOCDEIJAH00719609</td>\n",
              "      <td>2</td>\n",
              "      <td>1</td>\n",
              "      <td>1</td>\n",
              "      <td>31</td>\n",
              "      <td>4</td>\n",
              "      <td>3</td>\n",
              "      <td>3</td>\n",
              "      <td>0</td>\n",
              "      <td>1.00</td>\n",
              "      <td>4.10</td>\n",
              "    </tr>\n",
              "    <tr>\n",
              "      <th>13</th>\n",
              "      <td>TQSMNORXSHKLMUCDEIJAH00794113</td>\n",
              "      <td>1</td>\n",
              "      <td>1</td>\n",
              "      <td>1</td>\n",
              "      <td>49</td>\n",
              "      <td>4</td>\n",
              "      <td>5</td>\n",
              "      <td>2</td>\n",
              "      <td>0</td>\n",
              "      <td>1.00</td>\n",
              "      <td>4.33</td>\n",
              "    </tr>\n",
              "  </tbody>\n",
              "</table>\n",
              "</div>\n",
              "      <button class=\"colab-df-convert\" onclick=\"convertToInteractive('df-22947a6b-444b-4bcf-92b9-08550c31b5b9')\"\n",
              "              title=\"Convert this dataframe to an interactive table.\"\n",
              "              style=\"display:none;\">\n",
              "        \n",
              "  <svg xmlns=\"http://www.w3.org/2000/svg\" height=\"24px\"viewBox=\"0 0 24 24\"\n",
              "       width=\"24px\">\n",
              "    <path d=\"M0 0h24v24H0V0z\" fill=\"none\"/>\n",
              "    <path d=\"M18.56 5.44l.94 2.06.94-2.06 2.06-.94-2.06-.94-.94-2.06-.94 2.06-2.06.94zm-11 1L8.5 8.5l.94-2.06 2.06-.94-2.06-.94L8.5 2.5l-.94 2.06-2.06.94zm10 10l.94 2.06.94-2.06 2.06-.94-2.06-.94-.94-2.06-.94 2.06-2.06.94z\"/><path d=\"M17.41 7.96l-1.37-1.37c-.4-.4-.92-.59-1.43-.59-.52 0-1.04.2-1.43.59L10.3 9.45l-7.72 7.72c-.78.78-.78 2.05 0 2.83L4 21.41c.39.39.9.59 1.41.59.51 0 1.02-.2 1.41-.59l7.78-7.78 2.81-2.81c.8-.78.8-2.07 0-2.86zM5.41 20L4 18.59l7.72-7.72 1.47 1.35L5.41 20z\"/>\n",
              "  </svg>\n",
              "      </button>\n",
              "      \n",
              "  <style>\n",
              "    .colab-df-container {\n",
              "      display:flex;\n",
              "      flex-wrap:wrap;\n",
              "      gap: 12px;\n",
              "    }\n",
              "\n",
              "    .colab-df-convert {\n",
              "      background-color: #E8F0FE;\n",
              "      border: none;\n",
              "      border-radius: 50%;\n",
              "      cursor: pointer;\n",
              "      display: none;\n",
              "      fill: #1967D2;\n",
              "      height: 32px;\n",
              "      padding: 0 0 0 0;\n",
              "      width: 32px;\n",
              "    }\n",
              "\n",
              "    .colab-df-convert:hover {\n",
              "      background-color: #E2EBFA;\n",
              "      box-shadow: 0px 1px 2px rgba(60, 64, 67, 0.3), 0px 1px 3px 1px rgba(60, 64, 67, 0.15);\n",
              "      fill: #174EA6;\n",
              "    }\n",
              "\n",
              "    [theme=dark] .colab-df-convert {\n",
              "      background-color: #3B4455;\n",
              "      fill: #D2E3FC;\n",
              "    }\n",
              "\n",
              "    [theme=dark] .colab-df-convert:hover {\n",
              "      background-color: #434B5C;\n",
              "      box-shadow: 0px 1px 3px 1px rgba(0, 0, 0, 0.15);\n",
              "      filter: drop-shadow(0px 1px 2px rgba(0, 0, 0, 0.3));\n",
              "      fill: #FFFFFF;\n",
              "    }\n",
              "  </style>\n",
              "\n",
              "      <script>\n",
              "        const buttonEl =\n",
              "          document.querySelector('#df-22947a6b-444b-4bcf-92b9-08550c31b5b9 button.colab-df-convert');\n",
              "        buttonEl.style.display =\n",
              "          google.colab.kernel.accessAllowed ? 'block' : 'none';\n",
              "\n",
              "        async function convertToInteractive(key) {\n",
              "          const element = document.querySelector('#df-22947a6b-444b-4bcf-92b9-08550c31b5b9');\n",
              "          const dataTable =\n",
              "            await google.colab.kernel.invokeFunction('convertToInteractive',\n",
              "                                                     [key], {});\n",
              "          if (!dataTable) return;\n",
              "\n",
              "          const docLinkHtml = 'Like what you see? Visit the ' +\n",
              "            '<a target=\"_blank\" href=https://colab.research.google.com/notebooks/data_table.ipynb>data table notebook</a>'\n",
              "            + ' to learn more about interactive tables.';\n",
              "          element.innerHTML = '';\n",
              "          dataTable['output_type'] = 'display_data';\n",
              "          await google.colab.output.renderOutput(dataTable, element);\n",
              "          const docLink = document.createElement('div');\n",
              "          docLink.innerHTML = docLinkHtml;\n",
              "          element.appendChild(docLink);\n",
              "        }\n",
              "      </script>\n",
              "    </div>\n",
              "  </div>\n",
              "  "
            ]
          },
          "metadata": {},
          "execution_count": 22
        }
      ],
      "source": [
        "df_personas_jefes.head(5)"
      ]
    },
    {
      "cell_type": "code",
      "execution_count": 23,
      "metadata": {
        "colab": {
          "base_uri": "https://localhost:8080/"
        },
        "id": "PGXKYnK_rzuF",
        "outputId": "d792dc1e-cde4-44b2-bf51-ca94628bd2f2"
      },
      "outputs": [
        {
          "output_type": "execute_result",
          "data": {
            "text/plain": [
              "(16740, 11)"
            ]
          },
          "metadata": {},
          "execution_count": 23
        }
      ],
      "source": [
        "#comprobamos la cantidad de filas\n",
        "\n",
        "df_personas_jefes.shape"
      ]
    },
    {
      "cell_type": "code",
      "source": [
        "#exportamos el dataframe como .csv\n",
        "df_personas_jefes.to_csv('df_personas_jefes.csv', sep=';', index=False)"
      ],
      "metadata": {
        "id": "14xrvT9qDox6"
      },
      "execution_count": 24,
      "outputs": []
    },
    {
      "cell_type": "code",
      "execution_count": 25,
      "metadata": {
        "colab": {
          "base_uri": "https://localhost:8080/"
        },
        "id": "r-T8WY3Sr7cD",
        "outputId": "ef90de93-e239-4725-f2de-481da327a88f"
      },
      "outputs": [
        {
          "output_type": "execute_result",
          "data": {
            "text/plain": [
              "(16740, 88)"
            ]
          },
          "metadata": {},
          "execution_count": 25
        }
      ],
      "source": [
        "#comprobamos la cantidad de filas\n",
        "\n",
        "df_hogares.shape"
      ]
    },
    {
      "cell_type": "markdown",
      "source": [
        "Vemos que la cantidad de filas coincide con la del dataframe df_personas_jefes\n"
      ],
      "metadata": {
        "id": "pQyfNHkjENXj"
      }
    },
    {
      "cell_type": "code",
      "execution_count": 26,
      "metadata": {
        "id": "Ni5sI17AnD3p"
      },
      "outputs": [],
      "source": [
        "#unimos los dos dataframes, que tienen la misma cantidad de filas, según las variables CODUSU y NRO_HOGAR\n",
        "\n",
        "df_dataset = pd.merge(df_hogares, df_personas_jefes, on=['CODUSU','NRO_HOGAR'])"
      ]
    },
    {
      "cell_type": "code",
      "execution_count": 27,
      "metadata": {
        "colab": {
          "base_uri": "https://localhost:8080/"
        },
        "id": "yCUnWi5XK918",
        "outputId": "9e23c70b-bd2a-4f57-d2c9-25bd0d29cdf7"
      },
      "outputs": [
        {
          "output_type": "execute_result",
          "data": {
            "text/plain": [
              "(16740, 97)"
            ]
          },
          "metadata": {},
          "execution_count": 27
        }
      ],
      "source": [
        "#comprobamos la cantidad de filas\n",
        "\n",
        "df_dataset.shape"
      ]
    },
    {
      "cell_type": "code",
      "execution_count": 28,
      "metadata": {
        "colab": {
          "base_uri": "https://localhost:8080/",
          "height": 205
        },
        "id": "KYbChetLnSfC",
        "outputId": "fe6ea995-5d83-4b6b-873f-6b629fdb4f35"
      },
      "outputs": [
        {
          "output_type": "execute_result",
          "data": {
            "text/plain": [
              "                          CODUSU  ANO4  TRIMESTRE  NRO_HOGAR  REALIZADA  \\\n",
              "0  TQRMNOSPYHKOLQCDEGNFJ00789611  2022          4          1          1   \n",
              "1  TQRMNOQXUHMOLQCDEGNFJ00713295  2022          4          1          1   \n",
              "\n",
              "   REGION MAS_500  AGLOMERADO  PONDERA  IV1  ... VII2_4  parentesco(CH3)  \\\n",
              "0      44       N          17      356    1  ...      0                1   \n",
              "1      44       N          17      239    1  ...      0                1   \n",
              "\n",
              "   genero(CH04) edad(CH06)  cob_medica(CH08)  NIVEL_ED  CAT_OCUP  CAT_INAC  \\\n",
              "0             1         46                 4         3         2         0   \n",
              "1             1         69                 1         2         0         1   \n",
              "\n",
              "  AE_ctrol_ind  AE_ctrol_ind_sum  \n",
              "0         1.00              3.15  \n",
              "1         0.83              3.93  \n",
              "\n",
              "[2 rows x 97 columns]"
            ],
            "text/html": [
              "\n",
              "  <div id=\"df-2c1e9909-f9dd-447d-8650-27948259f043\">\n",
              "    <div class=\"colab-df-container\">\n",
              "      <div>\n",
              "<style scoped>\n",
              "    .dataframe tbody tr th:only-of-type {\n",
              "        vertical-align: middle;\n",
              "    }\n",
              "\n",
              "    .dataframe tbody tr th {\n",
              "        vertical-align: top;\n",
              "    }\n",
              "\n",
              "    .dataframe thead th {\n",
              "        text-align: right;\n",
              "    }\n",
              "</style>\n",
              "<table border=\"1\" class=\"dataframe\">\n",
              "  <thead>\n",
              "    <tr style=\"text-align: right;\">\n",
              "      <th></th>\n",
              "      <th>CODUSU</th>\n",
              "      <th>ANO4</th>\n",
              "      <th>TRIMESTRE</th>\n",
              "      <th>NRO_HOGAR</th>\n",
              "      <th>REALIZADA</th>\n",
              "      <th>REGION</th>\n",
              "      <th>MAS_500</th>\n",
              "      <th>AGLOMERADO</th>\n",
              "      <th>PONDERA</th>\n",
              "      <th>IV1</th>\n",
              "      <th>...</th>\n",
              "      <th>VII2_4</th>\n",
              "      <th>parentesco(CH3)</th>\n",
              "      <th>genero(CH04)</th>\n",
              "      <th>edad(CH06)</th>\n",
              "      <th>cob_medica(CH08)</th>\n",
              "      <th>NIVEL_ED</th>\n",
              "      <th>CAT_OCUP</th>\n",
              "      <th>CAT_INAC</th>\n",
              "      <th>AE_ctrol_ind</th>\n",
              "      <th>AE_ctrol_ind_sum</th>\n",
              "    </tr>\n",
              "  </thead>\n",
              "  <tbody>\n",
              "    <tr>\n",
              "      <th>0</th>\n",
              "      <td>TQRMNOSPYHKOLQCDEGNFJ00789611</td>\n",
              "      <td>2022</td>\n",
              "      <td>4</td>\n",
              "      <td>1</td>\n",
              "      <td>1</td>\n",
              "      <td>44</td>\n",
              "      <td>N</td>\n",
              "      <td>17</td>\n",
              "      <td>356</td>\n",
              "      <td>1</td>\n",
              "      <td>...</td>\n",
              "      <td>0</td>\n",
              "      <td>1</td>\n",
              "      <td>1</td>\n",
              "      <td>46</td>\n",
              "      <td>4</td>\n",
              "      <td>3</td>\n",
              "      <td>2</td>\n",
              "      <td>0</td>\n",
              "      <td>1.00</td>\n",
              "      <td>3.15</td>\n",
              "    </tr>\n",
              "    <tr>\n",
              "      <th>1</th>\n",
              "      <td>TQRMNOQXUHMOLQCDEGNFJ00713295</td>\n",
              "      <td>2022</td>\n",
              "      <td>4</td>\n",
              "      <td>1</td>\n",
              "      <td>1</td>\n",
              "      <td>44</td>\n",
              "      <td>N</td>\n",
              "      <td>17</td>\n",
              "      <td>239</td>\n",
              "      <td>1</td>\n",
              "      <td>...</td>\n",
              "      <td>0</td>\n",
              "      <td>1</td>\n",
              "      <td>1</td>\n",
              "      <td>69</td>\n",
              "      <td>1</td>\n",
              "      <td>2</td>\n",
              "      <td>0</td>\n",
              "      <td>1</td>\n",
              "      <td>0.83</td>\n",
              "      <td>3.93</td>\n",
              "    </tr>\n",
              "  </tbody>\n",
              "</table>\n",
              "<p>2 rows × 97 columns</p>\n",
              "</div>\n",
              "      <button class=\"colab-df-convert\" onclick=\"convertToInteractive('df-2c1e9909-f9dd-447d-8650-27948259f043')\"\n",
              "              title=\"Convert this dataframe to an interactive table.\"\n",
              "              style=\"display:none;\">\n",
              "        \n",
              "  <svg xmlns=\"http://www.w3.org/2000/svg\" height=\"24px\"viewBox=\"0 0 24 24\"\n",
              "       width=\"24px\">\n",
              "    <path d=\"M0 0h24v24H0V0z\" fill=\"none\"/>\n",
              "    <path d=\"M18.56 5.44l.94 2.06.94-2.06 2.06-.94-2.06-.94-.94-2.06-.94 2.06-2.06.94zm-11 1L8.5 8.5l.94-2.06 2.06-.94-2.06-.94L8.5 2.5l-.94 2.06-2.06.94zm10 10l.94 2.06.94-2.06 2.06-.94-2.06-.94-.94-2.06-.94 2.06-2.06.94z\"/><path d=\"M17.41 7.96l-1.37-1.37c-.4-.4-.92-.59-1.43-.59-.52 0-1.04.2-1.43.59L10.3 9.45l-7.72 7.72c-.78.78-.78 2.05 0 2.83L4 21.41c.39.39.9.59 1.41.59.51 0 1.02-.2 1.41-.59l7.78-7.78 2.81-2.81c.8-.78.8-2.07 0-2.86zM5.41 20L4 18.59l7.72-7.72 1.47 1.35L5.41 20z\"/>\n",
              "  </svg>\n",
              "      </button>\n",
              "      \n",
              "  <style>\n",
              "    .colab-df-container {\n",
              "      display:flex;\n",
              "      flex-wrap:wrap;\n",
              "      gap: 12px;\n",
              "    }\n",
              "\n",
              "    .colab-df-convert {\n",
              "      background-color: #E8F0FE;\n",
              "      border: none;\n",
              "      border-radius: 50%;\n",
              "      cursor: pointer;\n",
              "      display: none;\n",
              "      fill: #1967D2;\n",
              "      height: 32px;\n",
              "      padding: 0 0 0 0;\n",
              "      width: 32px;\n",
              "    }\n",
              "\n",
              "    .colab-df-convert:hover {\n",
              "      background-color: #E2EBFA;\n",
              "      box-shadow: 0px 1px 2px rgba(60, 64, 67, 0.3), 0px 1px 3px 1px rgba(60, 64, 67, 0.15);\n",
              "      fill: #174EA6;\n",
              "    }\n",
              "\n",
              "    [theme=dark] .colab-df-convert {\n",
              "      background-color: #3B4455;\n",
              "      fill: #D2E3FC;\n",
              "    }\n",
              "\n",
              "    [theme=dark] .colab-df-convert:hover {\n",
              "      background-color: #434B5C;\n",
              "      box-shadow: 0px 1px 3px 1px rgba(0, 0, 0, 0.15);\n",
              "      filter: drop-shadow(0px 1px 2px rgba(0, 0, 0, 0.3));\n",
              "      fill: #FFFFFF;\n",
              "    }\n",
              "  </style>\n",
              "\n",
              "      <script>\n",
              "        const buttonEl =\n",
              "          document.querySelector('#df-2c1e9909-f9dd-447d-8650-27948259f043 button.colab-df-convert');\n",
              "        buttonEl.style.display =\n",
              "          google.colab.kernel.accessAllowed ? 'block' : 'none';\n",
              "\n",
              "        async function convertToInteractive(key) {\n",
              "          const element = document.querySelector('#df-2c1e9909-f9dd-447d-8650-27948259f043');\n",
              "          const dataTable =\n",
              "            await google.colab.kernel.invokeFunction('convertToInteractive',\n",
              "                                                     [key], {});\n",
              "          if (!dataTable) return;\n",
              "\n",
              "          const docLinkHtml = 'Like what you see? Visit the ' +\n",
              "            '<a target=\"_blank\" href=https://colab.research.google.com/notebooks/data_table.ipynb>data table notebook</a>'\n",
              "            + ' to learn more about interactive tables.';\n",
              "          element.innerHTML = '';\n",
              "          dataTable['output_type'] = 'display_data';\n",
              "          await google.colab.output.renderOutput(dataTable, element);\n",
              "          const docLink = document.createElement('div');\n",
              "          docLink.innerHTML = docLinkHtml;\n",
              "          element.appendChild(docLink);\n",
              "        }\n",
              "      </script>\n",
              "    </div>\n",
              "  </div>\n",
              "  "
            ]
          },
          "metadata": {},
          "execution_count": 28
        }
      ],
      "source": [
        "df_dataset.head(2)"
      ]
    },
    {
      "cell_type": "code",
      "execution_count": 29,
      "metadata": {
        "id": "wYHohGGiE_ZT"
      },
      "outputs": [],
      "source": [
        "#la variable ITF representa el monto de ingreso total familiar (ver archivo \"EPH_disenoreg_09 disponible en https://www.indec.gob.ar/ftp/cuadros/menusuperior/eph/EPH_disenoreg_09.pdf\")\n",
        "#a este monto lo dividimos por la suma de % de las personas que residen en el hogar para obtener el ingreso por adulto equivalente\n",
        "\n",
        "df_dataset['adulto_equivalente']= df_dataset.apply(lambda row: row.ITF/row.AE_ctrol_ind_sum, axis=1)"
      ]
    },
    {
      "cell_type": "code",
      "execution_count": 30,
      "metadata": {
        "id": "DXJ_jn3lKoQF"
      },
      "outputs": [],
      "source": [
        "df_dataset['adulto_equivalente']= round(df_dataset['adulto_equivalente'], 2)"
      ]
    },
    {
      "cell_type": "code",
      "execution_count": 31,
      "metadata": {
        "colab": {
          "base_uri": "https://localhost:8080/",
          "height": 300
        },
        "id": "697UkkJnJFHZ",
        "outputId": "91cf8d8b-9055-403e-c268-db0b3dd62ad6"
      },
      "outputs": [
        {
          "output_type": "execute_result",
          "data": {
            "text/plain": [
              "                          CODUSU  ANO4  TRIMESTRE  NRO_HOGAR  REALIZADA  \\\n",
              "0  TQRMNOSPYHKOLQCDEGNFJ00789611  2022          4          1          1   \n",
              "1  TQRMNOQXUHMOLQCDEGNFJ00713295  2022          4          1          1   \n",
              "2  TQRMNORRSHJMKMCDEOJAH00794456  2022          4          1          1   \n",
              "3  TQRMNOSVUHLMKNCDEOJAH00720329  2022          4          1          1   \n",
              "4  TQRMNOSQWHJOKNCDEOJAH00794457  2022          4          1          1   \n",
              "\n",
              "   REGION MAS_500  AGLOMERADO  PONDERA  IV1  ... parentesco(CH3)  \\\n",
              "0      44       N          17      356    1  ...               1   \n",
              "1      44       N          17      239    1  ...               1   \n",
              "2      44       N          93       40    2  ...               1   \n",
              "3      44       N          93       95    1  ...               1   \n",
              "4      44       N          93       89    1  ...               1   \n",
              "\n",
              "   genero(CH04)  edad(CH06) cob_medica(CH08)  NIVEL_ED  CAT_OCUP  CAT_INAC  \\\n",
              "0             1          46                4         3         2         0   \n",
              "1             1          69                1         2         0         1   \n",
              "2             2          49                1         6         3         0   \n",
              "3             2          76                1         3         0         1   \n",
              "4             2          44                1         6         3         0   \n",
              "\n",
              "   AE_ctrol_ind AE_ctrol_ind_sum  adulto_equivalente  \n",
              "0          1.00             3.15           126984.13  \n",
              "1          0.83             3.93                0.00  \n",
              "2          0.76             3.82                0.00  \n",
              "3          0.63             0.63           146031.75  \n",
              "4          0.77             2.56            19531.25  \n",
              "\n",
              "[5 rows x 98 columns]"
            ],
            "text/html": [
              "\n",
              "  <div id=\"df-632e3689-3821-4bf0-8dcf-b4eac3b7c320\">\n",
              "    <div class=\"colab-df-container\">\n",
              "      <div>\n",
              "<style scoped>\n",
              "    .dataframe tbody tr th:only-of-type {\n",
              "        vertical-align: middle;\n",
              "    }\n",
              "\n",
              "    .dataframe tbody tr th {\n",
              "        vertical-align: top;\n",
              "    }\n",
              "\n",
              "    .dataframe thead th {\n",
              "        text-align: right;\n",
              "    }\n",
              "</style>\n",
              "<table border=\"1\" class=\"dataframe\">\n",
              "  <thead>\n",
              "    <tr style=\"text-align: right;\">\n",
              "      <th></th>\n",
              "      <th>CODUSU</th>\n",
              "      <th>ANO4</th>\n",
              "      <th>TRIMESTRE</th>\n",
              "      <th>NRO_HOGAR</th>\n",
              "      <th>REALIZADA</th>\n",
              "      <th>REGION</th>\n",
              "      <th>MAS_500</th>\n",
              "      <th>AGLOMERADO</th>\n",
              "      <th>PONDERA</th>\n",
              "      <th>IV1</th>\n",
              "      <th>...</th>\n",
              "      <th>parentesco(CH3)</th>\n",
              "      <th>genero(CH04)</th>\n",
              "      <th>edad(CH06)</th>\n",
              "      <th>cob_medica(CH08)</th>\n",
              "      <th>NIVEL_ED</th>\n",
              "      <th>CAT_OCUP</th>\n",
              "      <th>CAT_INAC</th>\n",
              "      <th>AE_ctrol_ind</th>\n",
              "      <th>AE_ctrol_ind_sum</th>\n",
              "      <th>adulto_equivalente</th>\n",
              "    </tr>\n",
              "  </thead>\n",
              "  <tbody>\n",
              "    <tr>\n",
              "      <th>0</th>\n",
              "      <td>TQRMNOSPYHKOLQCDEGNFJ00789611</td>\n",
              "      <td>2022</td>\n",
              "      <td>4</td>\n",
              "      <td>1</td>\n",
              "      <td>1</td>\n",
              "      <td>44</td>\n",
              "      <td>N</td>\n",
              "      <td>17</td>\n",
              "      <td>356</td>\n",
              "      <td>1</td>\n",
              "      <td>...</td>\n",
              "      <td>1</td>\n",
              "      <td>1</td>\n",
              "      <td>46</td>\n",
              "      <td>4</td>\n",
              "      <td>3</td>\n",
              "      <td>2</td>\n",
              "      <td>0</td>\n",
              "      <td>1.00</td>\n",
              "      <td>3.15</td>\n",
              "      <td>126984.13</td>\n",
              "    </tr>\n",
              "    <tr>\n",
              "      <th>1</th>\n",
              "      <td>TQRMNOQXUHMOLQCDEGNFJ00713295</td>\n",
              "      <td>2022</td>\n",
              "      <td>4</td>\n",
              "      <td>1</td>\n",
              "      <td>1</td>\n",
              "      <td>44</td>\n",
              "      <td>N</td>\n",
              "      <td>17</td>\n",
              "      <td>239</td>\n",
              "      <td>1</td>\n",
              "      <td>...</td>\n",
              "      <td>1</td>\n",
              "      <td>1</td>\n",
              "      <td>69</td>\n",
              "      <td>1</td>\n",
              "      <td>2</td>\n",
              "      <td>0</td>\n",
              "      <td>1</td>\n",
              "      <td>0.83</td>\n",
              "      <td>3.93</td>\n",
              "      <td>0.00</td>\n",
              "    </tr>\n",
              "    <tr>\n",
              "      <th>2</th>\n",
              "      <td>TQRMNORRSHJMKMCDEOJAH00794456</td>\n",
              "      <td>2022</td>\n",
              "      <td>4</td>\n",
              "      <td>1</td>\n",
              "      <td>1</td>\n",
              "      <td>44</td>\n",
              "      <td>N</td>\n",
              "      <td>93</td>\n",
              "      <td>40</td>\n",
              "      <td>2</td>\n",
              "      <td>...</td>\n",
              "      <td>1</td>\n",
              "      <td>2</td>\n",
              "      <td>49</td>\n",
              "      <td>1</td>\n",
              "      <td>6</td>\n",
              "      <td>3</td>\n",
              "      <td>0</td>\n",
              "      <td>0.76</td>\n",
              "      <td>3.82</td>\n",
              "      <td>0.00</td>\n",
              "    </tr>\n",
              "    <tr>\n",
              "      <th>3</th>\n",
              "      <td>TQRMNOSVUHLMKNCDEOJAH00720329</td>\n",
              "      <td>2022</td>\n",
              "      <td>4</td>\n",
              "      <td>1</td>\n",
              "      <td>1</td>\n",
              "      <td>44</td>\n",
              "      <td>N</td>\n",
              "      <td>93</td>\n",
              "      <td>95</td>\n",
              "      <td>1</td>\n",
              "      <td>...</td>\n",
              "      <td>1</td>\n",
              "      <td>2</td>\n",
              "      <td>76</td>\n",
              "      <td>1</td>\n",
              "      <td>3</td>\n",
              "      <td>0</td>\n",
              "      <td>1</td>\n",
              "      <td>0.63</td>\n",
              "      <td>0.63</td>\n",
              "      <td>146031.75</td>\n",
              "    </tr>\n",
              "    <tr>\n",
              "      <th>4</th>\n",
              "      <td>TQRMNOSQWHJOKNCDEOJAH00794457</td>\n",
              "      <td>2022</td>\n",
              "      <td>4</td>\n",
              "      <td>1</td>\n",
              "      <td>1</td>\n",
              "      <td>44</td>\n",
              "      <td>N</td>\n",
              "      <td>93</td>\n",
              "      <td>89</td>\n",
              "      <td>1</td>\n",
              "      <td>...</td>\n",
              "      <td>1</td>\n",
              "      <td>2</td>\n",
              "      <td>44</td>\n",
              "      <td>1</td>\n",
              "      <td>6</td>\n",
              "      <td>3</td>\n",
              "      <td>0</td>\n",
              "      <td>0.77</td>\n",
              "      <td>2.56</td>\n",
              "      <td>19531.25</td>\n",
              "    </tr>\n",
              "  </tbody>\n",
              "</table>\n",
              "<p>5 rows × 98 columns</p>\n",
              "</div>\n",
              "      <button class=\"colab-df-convert\" onclick=\"convertToInteractive('df-632e3689-3821-4bf0-8dcf-b4eac3b7c320')\"\n",
              "              title=\"Convert this dataframe to an interactive table.\"\n",
              "              style=\"display:none;\">\n",
              "        \n",
              "  <svg xmlns=\"http://www.w3.org/2000/svg\" height=\"24px\"viewBox=\"0 0 24 24\"\n",
              "       width=\"24px\">\n",
              "    <path d=\"M0 0h24v24H0V0z\" fill=\"none\"/>\n",
              "    <path d=\"M18.56 5.44l.94 2.06.94-2.06 2.06-.94-2.06-.94-.94-2.06-.94 2.06-2.06.94zm-11 1L8.5 8.5l.94-2.06 2.06-.94-2.06-.94L8.5 2.5l-.94 2.06-2.06.94zm10 10l.94 2.06.94-2.06 2.06-.94-2.06-.94-.94-2.06-.94 2.06-2.06.94z\"/><path d=\"M17.41 7.96l-1.37-1.37c-.4-.4-.92-.59-1.43-.59-.52 0-1.04.2-1.43.59L10.3 9.45l-7.72 7.72c-.78.78-.78 2.05 0 2.83L4 21.41c.39.39.9.59 1.41.59.51 0 1.02-.2 1.41-.59l7.78-7.78 2.81-2.81c.8-.78.8-2.07 0-2.86zM5.41 20L4 18.59l7.72-7.72 1.47 1.35L5.41 20z\"/>\n",
              "  </svg>\n",
              "      </button>\n",
              "      \n",
              "  <style>\n",
              "    .colab-df-container {\n",
              "      display:flex;\n",
              "      flex-wrap:wrap;\n",
              "      gap: 12px;\n",
              "    }\n",
              "\n",
              "    .colab-df-convert {\n",
              "      background-color: #E8F0FE;\n",
              "      border: none;\n",
              "      border-radius: 50%;\n",
              "      cursor: pointer;\n",
              "      display: none;\n",
              "      fill: #1967D2;\n",
              "      height: 32px;\n",
              "      padding: 0 0 0 0;\n",
              "      width: 32px;\n",
              "    }\n",
              "\n",
              "    .colab-df-convert:hover {\n",
              "      background-color: #E2EBFA;\n",
              "      box-shadow: 0px 1px 2px rgba(60, 64, 67, 0.3), 0px 1px 3px 1px rgba(60, 64, 67, 0.15);\n",
              "      fill: #174EA6;\n",
              "    }\n",
              "\n",
              "    [theme=dark] .colab-df-convert {\n",
              "      background-color: #3B4455;\n",
              "      fill: #D2E3FC;\n",
              "    }\n",
              "\n",
              "    [theme=dark] .colab-df-convert:hover {\n",
              "      background-color: #434B5C;\n",
              "      box-shadow: 0px 1px 3px 1px rgba(0, 0, 0, 0.15);\n",
              "      filter: drop-shadow(0px 1px 2px rgba(0, 0, 0, 0.3));\n",
              "      fill: #FFFFFF;\n",
              "    }\n",
              "  </style>\n",
              "\n",
              "      <script>\n",
              "        const buttonEl =\n",
              "          document.querySelector('#df-632e3689-3821-4bf0-8dcf-b4eac3b7c320 button.colab-df-convert');\n",
              "        buttonEl.style.display =\n",
              "          google.colab.kernel.accessAllowed ? 'block' : 'none';\n",
              "\n",
              "        async function convertToInteractive(key) {\n",
              "          const element = document.querySelector('#df-632e3689-3821-4bf0-8dcf-b4eac3b7c320');\n",
              "          const dataTable =\n",
              "            await google.colab.kernel.invokeFunction('convertToInteractive',\n",
              "                                                     [key], {});\n",
              "          if (!dataTable) return;\n",
              "\n",
              "          const docLinkHtml = 'Like what you see? Visit the ' +\n",
              "            '<a target=\"_blank\" href=https://colab.research.google.com/notebooks/data_table.ipynb>data table notebook</a>'\n",
              "            + ' to learn more about interactive tables.';\n",
              "          element.innerHTML = '';\n",
              "          dataTable['output_type'] = 'display_data';\n",
              "          await google.colab.output.renderOutput(dataTable, element);\n",
              "          const docLink = document.createElement('div');\n",
              "          docLink.innerHTML = docLinkHtml;\n",
              "          element.appendChild(docLink);\n",
              "        }\n",
              "      </script>\n",
              "    </div>\n",
              "  </div>\n",
              "  "
            ]
          },
          "metadata": {},
          "execution_count": 31
        }
      ],
      "source": [
        "df_dataset.head(5)"
      ]
    },
    {
      "cell_type": "code",
      "execution_count": 32,
      "metadata": {
        "id": "8hYnKNHsevJ4"
      },
      "outputs": [],
      "source": [
        "#creamos la variable objetivo, pobreza\n",
        "\n",
        "\"\"\"\n",
        "De acuerdo con el archivo \"canasta_01_23DF5760FF57\" (disponible en https://www.indec.gob.ar/uploads/informesdeprensa/canasta_01_23DF5760FF57.pdf)\n",
        "la canasta básica total para un adulto equivalente, para que no ingrese en la línea de pobreza, es de $49.6358.\n",
        "\n",
        "Creamos la varibale pobreza, donde todos los hogares que tengan ingresos menores a este valor son pobres.\n",
        "\"\"\"\n",
        "\n",
        "df_dataset['pobreza'] = np.where(df_dataset['adulto_equivalente']<49358,1,0)\n"
      ]
    },
    {
      "cell_type": "code",
      "execution_count": 33,
      "metadata": {
        "colab": {
          "base_uri": "https://localhost:8080/"
        },
        "id": "oKh4HIQqtN1b",
        "outputId": "51614a9d-1f40-4ee6-f639-d10e4fd87a18"
      },
      "outputs": [
        {
          "output_type": "execute_result",
          "data": {
            "text/plain": [
              "1    8549\n",
              "0    8191\n",
              "Name: pobreza, dtype: int64"
            ]
          },
          "metadata": {},
          "execution_count": 33
        }
      ],
      "source": [
        "df_dataset['pobreza'].value_counts()"
      ]
    },
    {
      "cell_type": "code",
      "execution_count": 34,
      "metadata": {
        "colab": {
          "base_uri": "https://localhost:8080/",
          "height": 300
        },
        "id": "AYFOGV4TlVRr",
        "outputId": "ea08050f-aeb7-4cdb-d602-f93d50f284e2"
      },
      "outputs": [
        {
          "output_type": "execute_result",
          "data": {
            "text/plain": [
              "                          CODUSU  ANO4  TRIMESTRE  NRO_HOGAR  REALIZADA  \\\n",
              "0  TQRMNOSPYHKOLQCDEGNFJ00789611  2022          4          1          1   \n",
              "1  TQRMNOQXUHMOLQCDEGNFJ00713295  2022          4          1          1   \n",
              "2  TQRMNORRSHJMKMCDEOJAH00794456  2022          4          1          1   \n",
              "3  TQRMNOSVUHLMKNCDEOJAH00720329  2022          4          1          1   \n",
              "4  TQRMNOSQWHJOKNCDEOJAH00794457  2022          4          1          1   \n",
              "\n",
              "   REGION MAS_500  AGLOMERADO  PONDERA  IV1  ... genero(CH04)  edad(CH06)  \\\n",
              "0      44       N          17      356    1  ...            1          46   \n",
              "1      44       N          17      239    1  ...            1          69   \n",
              "2      44       N          93       40    2  ...            2          49   \n",
              "3      44       N          93       95    1  ...            2          76   \n",
              "4      44       N          93       89    1  ...            2          44   \n",
              "\n",
              "   cob_medica(CH08) NIVEL_ED  CAT_OCUP  CAT_INAC  AE_ctrol_ind  \\\n",
              "0                 4        3         2         0          1.00   \n",
              "1                 1        2         0         1          0.83   \n",
              "2                 1        6         3         0          0.76   \n",
              "3                 1        3         0         1          0.63   \n",
              "4                 1        6         3         0          0.77   \n",
              "\n",
              "   AE_ctrol_ind_sum adulto_equivalente  pobreza  \n",
              "0              3.15          126984.13        0  \n",
              "1              3.93               0.00        1  \n",
              "2              3.82               0.00        1  \n",
              "3              0.63          146031.75        0  \n",
              "4              2.56           19531.25        1  \n",
              "\n",
              "[5 rows x 99 columns]"
            ],
            "text/html": [
              "\n",
              "  <div id=\"df-0008ea88-2d9c-4dcb-9acd-253e3f8458df\">\n",
              "    <div class=\"colab-df-container\">\n",
              "      <div>\n",
              "<style scoped>\n",
              "    .dataframe tbody tr th:only-of-type {\n",
              "        vertical-align: middle;\n",
              "    }\n",
              "\n",
              "    .dataframe tbody tr th {\n",
              "        vertical-align: top;\n",
              "    }\n",
              "\n",
              "    .dataframe thead th {\n",
              "        text-align: right;\n",
              "    }\n",
              "</style>\n",
              "<table border=\"1\" class=\"dataframe\">\n",
              "  <thead>\n",
              "    <tr style=\"text-align: right;\">\n",
              "      <th></th>\n",
              "      <th>CODUSU</th>\n",
              "      <th>ANO4</th>\n",
              "      <th>TRIMESTRE</th>\n",
              "      <th>NRO_HOGAR</th>\n",
              "      <th>REALIZADA</th>\n",
              "      <th>REGION</th>\n",
              "      <th>MAS_500</th>\n",
              "      <th>AGLOMERADO</th>\n",
              "      <th>PONDERA</th>\n",
              "      <th>IV1</th>\n",
              "      <th>...</th>\n",
              "      <th>genero(CH04)</th>\n",
              "      <th>edad(CH06)</th>\n",
              "      <th>cob_medica(CH08)</th>\n",
              "      <th>NIVEL_ED</th>\n",
              "      <th>CAT_OCUP</th>\n",
              "      <th>CAT_INAC</th>\n",
              "      <th>AE_ctrol_ind</th>\n",
              "      <th>AE_ctrol_ind_sum</th>\n",
              "      <th>adulto_equivalente</th>\n",
              "      <th>pobreza</th>\n",
              "    </tr>\n",
              "  </thead>\n",
              "  <tbody>\n",
              "    <tr>\n",
              "      <th>0</th>\n",
              "      <td>TQRMNOSPYHKOLQCDEGNFJ00789611</td>\n",
              "      <td>2022</td>\n",
              "      <td>4</td>\n",
              "      <td>1</td>\n",
              "      <td>1</td>\n",
              "      <td>44</td>\n",
              "      <td>N</td>\n",
              "      <td>17</td>\n",
              "      <td>356</td>\n",
              "      <td>1</td>\n",
              "      <td>...</td>\n",
              "      <td>1</td>\n",
              "      <td>46</td>\n",
              "      <td>4</td>\n",
              "      <td>3</td>\n",
              "      <td>2</td>\n",
              "      <td>0</td>\n",
              "      <td>1.00</td>\n",
              "      <td>3.15</td>\n",
              "      <td>126984.13</td>\n",
              "      <td>0</td>\n",
              "    </tr>\n",
              "    <tr>\n",
              "      <th>1</th>\n",
              "      <td>TQRMNOQXUHMOLQCDEGNFJ00713295</td>\n",
              "      <td>2022</td>\n",
              "      <td>4</td>\n",
              "      <td>1</td>\n",
              "      <td>1</td>\n",
              "      <td>44</td>\n",
              "      <td>N</td>\n",
              "      <td>17</td>\n",
              "      <td>239</td>\n",
              "      <td>1</td>\n",
              "      <td>...</td>\n",
              "      <td>1</td>\n",
              "      <td>69</td>\n",
              "      <td>1</td>\n",
              "      <td>2</td>\n",
              "      <td>0</td>\n",
              "      <td>1</td>\n",
              "      <td>0.83</td>\n",
              "      <td>3.93</td>\n",
              "      <td>0.00</td>\n",
              "      <td>1</td>\n",
              "    </tr>\n",
              "    <tr>\n",
              "      <th>2</th>\n",
              "      <td>TQRMNORRSHJMKMCDEOJAH00794456</td>\n",
              "      <td>2022</td>\n",
              "      <td>4</td>\n",
              "      <td>1</td>\n",
              "      <td>1</td>\n",
              "      <td>44</td>\n",
              "      <td>N</td>\n",
              "      <td>93</td>\n",
              "      <td>40</td>\n",
              "      <td>2</td>\n",
              "      <td>...</td>\n",
              "      <td>2</td>\n",
              "      <td>49</td>\n",
              "      <td>1</td>\n",
              "      <td>6</td>\n",
              "      <td>3</td>\n",
              "      <td>0</td>\n",
              "      <td>0.76</td>\n",
              "      <td>3.82</td>\n",
              "      <td>0.00</td>\n",
              "      <td>1</td>\n",
              "    </tr>\n",
              "    <tr>\n",
              "      <th>3</th>\n",
              "      <td>TQRMNOSVUHLMKNCDEOJAH00720329</td>\n",
              "      <td>2022</td>\n",
              "      <td>4</td>\n",
              "      <td>1</td>\n",
              "      <td>1</td>\n",
              "      <td>44</td>\n",
              "      <td>N</td>\n",
              "      <td>93</td>\n",
              "      <td>95</td>\n",
              "      <td>1</td>\n",
              "      <td>...</td>\n",
              "      <td>2</td>\n",
              "      <td>76</td>\n",
              "      <td>1</td>\n",
              "      <td>3</td>\n",
              "      <td>0</td>\n",
              "      <td>1</td>\n",
              "      <td>0.63</td>\n",
              "      <td>0.63</td>\n",
              "      <td>146031.75</td>\n",
              "      <td>0</td>\n",
              "    </tr>\n",
              "    <tr>\n",
              "      <th>4</th>\n",
              "      <td>TQRMNOSQWHJOKNCDEOJAH00794457</td>\n",
              "      <td>2022</td>\n",
              "      <td>4</td>\n",
              "      <td>1</td>\n",
              "      <td>1</td>\n",
              "      <td>44</td>\n",
              "      <td>N</td>\n",
              "      <td>93</td>\n",
              "      <td>89</td>\n",
              "      <td>1</td>\n",
              "      <td>...</td>\n",
              "      <td>2</td>\n",
              "      <td>44</td>\n",
              "      <td>1</td>\n",
              "      <td>6</td>\n",
              "      <td>3</td>\n",
              "      <td>0</td>\n",
              "      <td>0.77</td>\n",
              "      <td>2.56</td>\n",
              "      <td>19531.25</td>\n",
              "      <td>1</td>\n",
              "    </tr>\n",
              "  </tbody>\n",
              "</table>\n",
              "<p>5 rows × 99 columns</p>\n",
              "</div>\n",
              "      <button class=\"colab-df-convert\" onclick=\"convertToInteractive('df-0008ea88-2d9c-4dcb-9acd-253e3f8458df')\"\n",
              "              title=\"Convert this dataframe to an interactive table.\"\n",
              "              style=\"display:none;\">\n",
              "        \n",
              "  <svg xmlns=\"http://www.w3.org/2000/svg\" height=\"24px\"viewBox=\"0 0 24 24\"\n",
              "       width=\"24px\">\n",
              "    <path d=\"M0 0h24v24H0V0z\" fill=\"none\"/>\n",
              "    <path d=\"M18.56 5.44l.94 2.06.94-2.06 2.06-.94-2.06-.94-.94-2.06-.94 2.06-2.06.94zm-11 1L8.5 8.5l.94-2.06 2.06-.94-2.06-.94L8.5 2.5l-.94 2.06-2.06.94zm10 10l.94 2.06.94-2.06 2.06-.94-2.06-.94-.94-2.06-.94 2.06-2.06.94z\"/><path d=\"M17.41 7.96l-1.37-1.37c-.4-.4-.92-.59-1.43-.59-.52 0-1.04.2-1.43.59L10.3 9.45l-7.72 7.72c-.78.78-.78 2.05 0 2.83L4 21.41c.39.39.9.59 1.41.59.51 0 1.02-.2 1.41-.59l7.78-7.78 2.81-2.81c.8-.78.8-2.07 0-2.86zM5.41 20L4 18.59l7.72-7.72 1.47 1.35L5.41 20z\"/>\n",
              "  </svg>\n",
              "      </button>\n",
              "      \n",
              "  <style>\n",
              "    .colab-df-container {\n",
              "      display:flex;\n",
              "      flex-wrap:wrap;\n",
              "      gap: 12px;\n",
              "    }\n",
              "\n",
              "    .colab-df-convert {\n",
              "      background-color: #E8F0FE;\n",
              "      border: none;\n",
              "      border-radius: 50%;\n",
              "      cursor: pointer;\n",
              "      display: none;\n",
              "      fill: #1967D2;\n",
              "      height: 32px;\n",
              "      padding: 0 0 0 0;\n",
              "      width: 32px;\n",
              "    }\n",
              "\n",
              "    .colab-df-convert:hover {\n",
              "      background-color: #E2EBFA;\n",
              "      box-shadow: 0px 1px 2px rgba(60, 64, 67, 0.3), 0px 1px 3px 1px rgba(60, 64, 67, 0.15);\n",
              "      fill: #174EA6;\n",
              "    }\n",
              "\n",
              "    [theme=dark] .colab-df-convert {\n",
              "      background-color: #3B4455;\n",
              "      fill: #D2E3FC;\n",
              "    }\n",
              "\n",
              "    [theme=dark] .colab-df-convert:hover {\n",
              "      background-color: #434B5C;\n",
              "      box-shadow: 0px 1px 3px 1px rgba(0, 0, 0, 0.15);\n",
              "      filter: drop-shadow(0px 1px 2px rgba(0, 0, 0, 0.3));\n",
              "      fill: #FFFFFF;\n",
              "    }\n",
              "  </style>\n",
              "\n",
              "      <script>\n",
              "        const buttonEl =\n",
              "          document.querySelector('#df-0008ea88-2d9c-4dcb-9acd-253e3f8458df button.colab-df-convert');\n",
              "        buttonEl.style.display =\n",
              "          google.colab.kernel.accessAllowed ? 'block' : 'none';\n",
              "\n",
              "        async function convertToInteractive(key) {\n",
              "          const element = document.querySelector('#df-0008ea88-2d9c-4dcb-9acd-253e3f8458df');\n",
              "          const dataTable =\n",
              "            await google.colab.kernel.invokeFunction('convertToInteractive',\n",
              "                                                     [key], {});\n",
              "          if (!dataTable) return;\n",
              "\n",
              "          const docLinkHtml = 'Like what you see? Visit the ' +\n",
              "            '<a target=\"_blank\" href=https://colab.research.google.com/notebooks/data_table.ipynb>data table notebook</a>'\n",
              "            + ' to learn more about interactive tables.';\n",
              "          element.innerHTML = '';\n",
              "          dataTable['output_type'] = 'display_data';\n",
              "          await google.colab.output.renderOutput(dataTable, element);\n",
              "          const docLink = document.createElement('div');\n",
              "          docLink.innerHTML = docLinkHtml;\n",
              "          element.appendChild(docLink);\n",
              "        }\n",
              "      </script>\n",
              "    </div>\n",
              "  </div>\n",
              "  "
            ]
          },
          "metadata": {},
          "execution_count": 34
        }
      ],
      "source": [
        "df_dataset.head(5)"
      ]
    },
    {
      "cell_type": "code",
      "execution_count": 35,
      "metadata": {
        "id": "ilAB-wHFevzU"
      },
      "outputs": [],
      "source": [
        "df_dataset.to_csv('dataset.csv')"
      ]
    },
    {
      "cell_type": "code",
      "source": [
        "#la variable ITF representa el monto de ingreso total familiar\n",
        "#analizamos si hay valores 0 en la variable ITF\n",
        "ITF_cero = [x for x in df_dataset['ITF'] if x == 0]\n",
        "len(ITF_cero)"
      ],
      "metadata": {
        "colab": {
          "base_uri": "https://localhost:8080/"
        },
        "id": "_XcIrkrmsaz5",
        "outputId": "ca406c9d-b630-4a94-dbe2-405e28136317"
      },
      "execution_count": 36,
      "outputs": [
        {
          "output_type": "execute_result",
          "data": {
            "text/plain": [
              "3739"
            ]
          },
          "metadata": {},
          "execution_count": 36
        }
      ]
    },
    {
      "cell_type": "code",
      "source": [
        "#hay 3.739 hogares que declararon ingresos $0, para este estudio no los vamos a tener en cuenta\n",
        "#creamos un nuevo dataframe sin esos valores\n",
        "\n",
        "df_dataset_sinITF0 = df_dataset.drop(df_dataset[df_dataset['ITF']==0].index)"
      ],
      "metadata": {
        "id": "uhRxug5dtMKO"
      },
      "execution_count": 37,
      "outputs": []
    },
    {
      "cell_type": "code",
      "source": [
        "ITF_cero = [x for x in df_dataset_sinITF0['ITF'] if x == 0]\n",
        "len(ITF_cero)"
      ],
      "metadata": {
        "colab": {
          "base_uri": "https://localhost:8080/"
        },
        "id": "aIYaS8sdtR89",
        "outputId": "a0917bad-8195-4002-8d22-33d8f3896d87"
      },
      "execution_count": 38,
      "outputs": [
        {
          "output_type": "execute_result",
          "data": {
            "text/plain": [
              "0"
            ]
          },
          "metadata": {},
          "execution_count": 38
        }
      ]
    },
    {
      "cell_type": "code",
      "source": [
        "# Calculamos el porcentaje de pobreza\n",
        "# Contar los valores únicos en la columna 'pobreza'\n",
        "counts = df_dataset_sinITF0['pobreza'].value_counts()"
      ],
      "metadata": {
        "id": "lr-s7ui2tUuS"
      },
      "execution_count": 39,
      "outputs": []
    },
    {
      "cell_type": "code",
      "source": [
        "# Porcentaje de pobreza\n",
        "porcentaje_pobreza = counts[1] / len(df_dataset_sinITF0) * 100\n",
        "\n",
        "print(f'El porcentaje de pobreza es {porcentaje_pobreza:.2f}%')"
      ],
      "metadata": {
        "colab": {
          "base_uri": "https://localhost:8080/"
        },
        "id": "jD7rin2GtXha",
        "outputId": "94c17804-6e0f-4dd8-9e9c-aa3add56b20b"
      },
      "execution_count": 40,
      "outputs": [
        {
          "output_type": "stream",
          "name": "stdout",
          "text": [
            "El porcentaje de pobreza es 37.00%\n"
          ]
        }
      ]
    },
    {
      "cell_type": "code",
      "source": [
        "#seleccionamos los hogares que están por debajo de la línea de pobreza\n",
        "df_pobres = df_dataset_sinITF0[df_dataset_sinITF0['pobreza'] == 1]"
      ],
      "metadata": {
        "id": "RxPexpDbuMJs"
      },
      "execution_count": 41,
      "outputs": []
    },
    {
      "cell_type": "code",
      "source": [
        "df_pobres.to_csv('dataset_hblp.csv')"
      ],
      "metadata": {
        "id": "WKLrQ7fPxNuE"
      },
      "execution_count": 42,
      "outputs": []
    },
    {
      "cell_type": "markdown",
      "source": [
        "# 2 - Análisis exploratorio de datos:"
      ],
      "metadata": {
        "id": "bL3zatn2wIk9"
      }
    },
    {
      "cell_type": "code",
      "source": [
        "## cargamos el archivo csv generado en el punto anterior y creamos el dataset \"hblp\" (hogares bajo linea de pobreza)\n",
        "\n",
        "\n",
        "hblp = 'https://raw.githubusercontent.com/monsegutier/GRUPO-6-PROC.-DE-DATOS/main/data/dataset_hblp.csv'\n",
        "df_hblp = pd.read_csv(hblp, sep=',')\n",
        "\n",
        "## dataframe checks\n",
        "\n",
        "print(\"Dimensiones de dataframe hblp:\", df_hblp.shape)\n",
        "print(df_hblp.head())"
      ],
      "metadata": {
        "id": "kIjC7nNK8QO3",
        "outputId": "90e8af47-787f-4b78-9ac0-73ba07ac8d3e",
        "colab": {
          "base_uri": "https://localhost:8080/"
        }
      },
      "execution_count": 43,
      "outputs": [
        {
          "output_type": "stream",
          "name": "stdout",
          "text": [
            "Dimensiones de dataframe hblp: (4810, 100)\n",
            "   Unnamed: 0                         CODUSU  ANO4  TRIMESTRE  NRO_HOGAR  \\\n",
            "0           4  TQRMNOSQWHJOKNCDEOJAH00794457  2022          4          1   \n",
            "1           6  TQRMNOQVSHKMKPCDEOJAH00793041  2022          4          1   \n",
            "2           7  TQRMNOQPXHKKKQCDEOJAH00793105  2022          4          1   \n",
            "3          11  TQRMNOQTYHLMKRCDEFLID00714984  2022          4          1   \n",
            "4          18  TQRMNORVPHMMTRCDEIJAH00719603  2022          4          1   \n",
            "\n",
            "   REALIZADA  REGION MAS_500  AGLOMERADO  PONDERA  ...  genero(CH04)  \\\n",
            "0          1      44       N          93       89  ...             2   \n",
            "1          1      44       N          93       99  ...             1   \n",
            "2          1      44       N          93      138  ...             2   \n",
            "3          1      43       S           5      359  ...             2   \n",
            "4          1       1       S          33     1410  ...             1   \n",
            "\n",
            "  edad(CH06)  cob_medica(CH08)  NIVEL_ED CAT_OCUP  CAT_INAC  AE_ctrol_ind  \\\n",
            "0         44                 1         6        3         0          0.77   \n",
            "1         45                 4         3        2         0          1.00   \n",
            "2         51                 1         6        3         0          0.76   \n",
            "3         80                 1         2        0         1          0.63   \n",
            "4         52                 1         3        3         0          1.00   \n",
            "\n",
            "   AE_ctrol_ind_sum  adulto_equivalente pobreza  \n",
            "0              2.56            19531.25       1  \n",
            "1              3.55            22535.21       1  \n",
            "2              2.55            47058.82       1  \n",
            "3              1.46            31506.85       1  \n",
            "4              4.10            39024.39       1  \n",
            "\n",
            "[5 rows x 100 columns]\n"
          ]
        }
      ]
    },
    {
      "cell_type": "markdown",
      "source": [
        "Realizamos graficos para ver como estan distribuidos los hogares segun la region de residencia"
      ],
      "metadata": {
        "id": "HfdGPSHlJzmm"
      }
    },
    {
      "cell_type": "code",
      "source": [
        "#grafico para observar la cantidad de hogares pobres en  cada region que se realiza la encuesta,\n",
        "x= df_hblp ['REGION'].unique() #indicamos que variable se utiliza en el eje X\n",
        "etiquetas = [\"Gran Bs As\",\"NOA\",\"NEA\",\"Cuyo\",\"Pampeana\",\"Patagónica\"] #etiquetas es para nombrar cada region en el eje\n",
        "alturas = df_hblp .groupby('REGION')['pobreza'].sum() # indicamos cual es la variable que se utiliza en el eje y\n",
        "\n",
        "# Crear el gráfico de barras\n",
        "plt.bar(range(len(x)), alturas, color = \"darkseagreen\") #con range(len()) indicamos que nuestra variable es categorica\n",
        "\n",
        "# Personalizar los ejes\n",
        "plt.xticks(range(len(x)), etiquetas) #indicamos que nombre le pone a las columnas\n",
        "\n",
        "plt.title('Comparación de hogares que están por debajo de la línea de pobreza según la región')\n",
        "plt.xlabel('Region')\n",
        "plt.ylabel('Cant hogares que están debajo de la línea de pobreza')"
      ],
      "metadata": {
        "id": "-aYzbK_ZJ3fV",
        "outputId": "5af67c10-2dac-4006-f84e-3940100b4646",
        "colab": {
          "base_uri": "https://localhost:8080/",
          "height": 490
        }
      },
      "execution_count": 44,
      "outputs": [
        {
          "output_type": "execute_result",
          "data": {
            "text/plain": [
              "Text(0, 0.5, 'Cant hogares que están debajo de la línea de pobreza')"
            ]
          },
          "metadata": {},
          "execution_count": 44
        },
        {
          "output_type": "display_data",
          "data": {
            "text/plain": [
              "<Figure size 640x480 with 1 Axes>"
            ],
            "image/png": "[encoded data removed]"
          },
          "metadata": {}
        }
      ]
    },
    {
      "cell_type": "code",
      "source": [
        "#hogares que están por debajo de la línea de pobreza por aglomerado\n",
        "x = df_hblp ['MAS_500'].unique()\n",
        "etiquetas = [\"AGLOMERADOS MENOS DE 500 MIL HAB\",\"AGLOMERADOS MAS DE 500 MIL HAB\"]\n",
        "alturas = df_hblp .groupby('MAS_500')['pobreza'].sum()\n",
        "plt.barh(x, alturas, tick_label = etiquetas, color = \"darkseagreen\")\n",
        "plt.title('Cantidad de hogares que están por debajo de la línea de pobreza por aglomerado según la cantiadad de habitantes')\n",
        "plt.xlabel('Cant hogares que están debajo de la línea de pobreza')"
      ],
      "metadata": {
        "id": "xOfRtn4BKc0P",
        "outputId": "e15f9f73-fa68-44cf-83f9-aec5a9e7f336",
        "colab": {
          "base_uri": "https://localhost:8080/",
          "height": 490
        }
      },
      "execution_count": 45,
      "outputs": [
        {
          "output_type": "execute_result",
          "data": {
            "text/plain": [
              "Text(0.5, 0, 'Cant hogares que están debajo de la línea de pobreza')"
            ]
          },
          "metadata": {},
          "execution_count": 45
        },
        {
          "output_type": "display_data",
          "data": {
            "text/plain": [
              "<Figure size 640x480 with 1 Axes>"
            ],
            "image/png": "[encoded data removed]"
          },
          "metadata": {}
        }
      ]
    },
    {
      "cell_type": "markdown",
      "source": [
        "# 3 - Procesamiento y análisis de datos:"
      ],
      "metadata": {
        "id": "Cn4OvVOpwM9N"
      }
    },
    {
      "cell_type": "markdown",
      "source": [
        "# 4 - Visualización de datos:"
      ],
      "metadata": {
        "id": "YXNZoQhHwWTj"
      }
    },
    {
      "cell_type": "markdown",
      "source": [
        "# 5 - Comunicación efectiva de resultados:"
      ],
      "metadata": {
        "id": "zdGdXkVDwbtU"
      }
    }
  ],
  "metadata": {
    "colab": {
      "provenance": [],
      "include_colab_link": true
    },
    "kernelspec": {
      "display_name": "Python 3",
      "name": "python3"
    },
    "language_info": {
      "name": "python"
    }
  },
  "nbformat": 4,
  "nbformat_minor": 0
}